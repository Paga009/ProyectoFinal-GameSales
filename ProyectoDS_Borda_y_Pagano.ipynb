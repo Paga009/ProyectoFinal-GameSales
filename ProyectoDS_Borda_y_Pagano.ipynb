{
  "nbformat": 4,
  "nbformat_minor": 0,
  "metadata": {
    "colab": {
      "provenance": [],
      "collapsed_sections": [
        "rz4Qh-_-F2ZN",
        "DV_TsDk9EjSR"
      ]
    },
    "kernelspec": {
      "name": "python3",
      "display_name": "Python 3"
    },
    "language_info": {
      "name": "python"
    }
  },
  "cells": [
    {
      "cell_type": "markdown",
      "source": [
        "### **Estructurando un Proyecto de DS - Borda y Pagano**"
      ],
      "metadata": {
        "id": "rz4Qh-_-F2ZN"
      }
    },
    {
      "cell_type": "markdown",
      "source": [
        "**Consigna**\n",
        "\n",
        "Crearán un notebook que deberá tener en primera instancia un resumen (250/500 palabras) de acuerdo al dataset elegido del desafío “Visualizaciones en Python”. Además se deben establecer las preguntas e hipótesis de interés sobre el dataset elegido. \n",
        "\n",
        "Continuaremos trabajando con base en lo realizado en el Desafío entregable: Visualización en Python, en esta oportunidad deberemos complementar con lo siguiente:\n",
        "\n",
        "1.  Generar preguntas de interés o hipótesis de interés sobre el dataset elegido para el proyecto final.\n",
        "2.  Crear visualizaciones (univariados, bivariados o trivariados) junto con resúmenes numéricos básicos acordes con los tipos de variables disponibles.\n",
        "3.  Interpretar los resultados obtenidos\n",
        "\n"
      ],
      "metadata": {
        "id": "cdVczhPJG6KR"
      }
    },
    {
      "cell_type": "markdown",
      "source": [
        "El siguiente trabajo tiene como objetivo analizar las caracteriticas de las ventas de videojuegos en los tres mayores mercados del mundo (Estados Unidos, Europa y Japon). Cada mercado tiene caracteristicas unicas por lo que es fundamental tener claro como es cada uno al momento de desarrollar videojuegos. Si tenemos claro a que publico apuntamos podemos saber como tiene que ser lo que desarrollemos. \n",
        "Para este trabajo hemos utilzado un DataSet publico de Kaggle. La informacion esta divida por mercados, genero de videojuego y año de venta.\n",
        "Tenemos la creencia de que cada mercado es unico en sus caracteristicas y no se parecen uno al otro, por lo que si queremos ser lideres en ventas tenemos que tener claro a quien le queremos vender.\n",
        "Todas estos analisis los iremos realizando y comentando a lo largo del trabajo para darle una vision amplia de los mercados y los videojuegos. \n",
        "Despues de dar un rapido vistaso a los graficos es evidente como los mercados Europeos y Estadounidense son similiares en cuanto a sus gustos aunque muy diferentes al mercado Japones. Si uno quiere triunfar en Estados Unidos o Europa es probable que deba desarrollar videojuegos para PlayStation o Xbox; en cambio, si quiere triunar en Japon deberiamos desarrollar videojuegos para Nintendo. Por otro lado si deseamos desarrollar videojuegos para los dos primeros debemos orientarnos hacia los shooters, pero en el pais oriental deberiamos apuntar a los RPG.\n",
        "Por otro lado, podemos ver caracteristicas similares entre los mercados, por ejemplo la clasificacion mas vendida en los tres mercados es 'E' (Para todo publico).\n",
        "\n",
        "Por esta razon, nos surgen las siguientes preguntas: ¿Por que razon existen  diferencias tan marcadas en los gustos de los consumidores de videojuegas occidentales y orientales? ¿Como influyen los juegos de determinadas plataformas en las ventas? ¿Que region genera mas ganancias para las grandes empresas de videojuegos? ¿Cual desarrollador es mas dominante en relacion de cantidad de lanzamientos y ventas conseguidas? "
      ],
      "metadata": {
        "id": "NHpIel6FBQgg"
      }
    },
    {
      "cell_type": "code",
      "source": [
        "from google.colab import drive\n",
        "drive.mount('/content/drive')"
      ],
      "metadata": {
        "colab": {
          "base_uri": "https://localhost:8080/"
        },
        "id": "BQAXz0UpUPoK",
        "outputId": "a4ecf1e5-ee8c-41a8-eeb2-e1fd269021a8"
      },
      "execution_count": null,
      "outputs": [
        {
          "output_type": "stream",
          "name": "stdout",
          "text": [
            "Drive already mounted at /content/drive; to attempt to forcibly remount, call drive.mount(\"/content/drive\", force_remount=True).\n"
          ]
        }
      ]
    },
    {
      "cell_type": "code",
      "execution_count": null,
      "metadata": {
        "id": "loN2Eeoj5xgN"
      },
      "outputs": [],
      "source": [
        "import pandas as pd\n",
        "import seaborn as sns\n",
        "import matplotlib as mpl\n",
        "import matplotlib.pyplot as plt\n",
        "\n",
        "df = pd.read_csv('/content/drive/MyDrive/Data Science/Proyecto DS/Video_Games_Sales.csv')"
      ]
    },
    {
      "cell_type": "markdown",
      "source": [
        "EDA - EXPLORATORY DATA ANALYSIS"
      ],
      "metadata": {
        "id": "V8cquV7AJq5Z"
      }
    },
    {
      "cell_type": "code",
      "source": [
        "df.info()"
      ],
      "metadata": {
        "colab": {
          "base_uri": "https://localhost:8080/"
        },
        "id": "-szfzqw6J3SM",
        "outputId": "e80ad04a-88b5-4908-960f-28b7524ac29c"
      },
      "execution_count": null,
      "outputs": [
        {
          "output_type": "stream",
          "name": "stdout",
          "text": [
            "<class 'pandas.core.frame.DataFrame'>\n",
            "RangeIndex: 14576 entries, 0 to 14575\n",
            "Data columns (total 15 columns):\n",
            " #   Column           Non-Null Count  Dtype  \n",
            "---  ------           --------------  -----  \n",
            " 0   Name             14574 non-null  object \n",
            " 1   Platform         14576 non-null  object \n",
            " 2   Year_of_Release  14344 non-null  float64\n",
            " 3   Genre            14574 non-null  object \n",
            " 4   Publisher        14527 non-null  object \n",
            " 5   NA_Sales         14576 non-null  float64\n",
            " 6   EU_Sales         14576 non-null  float64\n",
            " 7   JP_Sales         14576 non-null  float64\n",
            " 8   Critic_Score     7217 non-null   float64\n",
            " 9   Critic_Count     7217 non-null   float64\n",
            " 10  User_Score       8760 non-null   object \n",
            " 11  User_Count       6796 non-null   float64\n",
            " 12  Developer        8829 non-null   object \n",
            " 13  Rating           8704 non-null   object \n",
            " 14  Global_Sales     14576 non-null  float64\n",
            "dtypes: float64(8), object(7)\n",
            "memory usage: 1.7+ MB\n"
          ]
        }
      ]
    },
    {
      "cell_type": "code",
      "source": [
        "df.head(6)"
      ],
      "metadata": {
        "colab": {
          "base_uri": "https://localhost:8080/"
        },
        "id": "7MCo1Hs1KxZi",
        "outputId": "de3470d2-0e4a-4c9e-a1f8-f3088f621b9d"
      },
      "execution_count": null,
      "outputs": [
        {
          "output_type": "execute_result",
          "data": {
            "text/plain": [
              "                       Name Platform  Year_of_Release         Genre Publisher  \\\n",
              "0                Wii Sports      Wii           2006.0        Sports  Nintendo   \n",
              "1         Super Mario Bros.      NES           1985.0      Platform  Nintendo   \n",
              "2            Mario Kart Wii      Wii           2008.0        Racing  Nintendo   \n",
              "3         Wii Sports Resort      Wii           2009.0        Sports  Nintendo   \n",
              "4  Pokemon Red/Pokemon Blue       GB           1996.0  Role-Playing  Nintendo   \n",
              "5                    Tetris       GB           1989.0        Puzzle  Nintendo   \n",
              "\n",
              "   NA_Sales  EU_Sales  JP_Sales  Critic_Score  Critic_Count User_Score  \\\n",
              "0     41.36     28.96      3.77          76.0          51.0          8   \n",
              "1     29.08      3.58      6.81           NaN           NaN        NaN   \n",
              "2     15.68     12.76      3.79          82.0          73.0        8.3   \n",
              "3     15.61     10.93      3.28          80.0          73.0          8   \n",
              "4     11.27      8.89     10.22           NaN           NaN        NaN   \n",
              "5     23.20      2.26      4.22           NaN           NaN        NaN   \n",
              "\n",
              "   User_Count Developer Rating  Global_Sales  \n",
              "0       322.0  Nintendo      E         82.53  \n",
              "1         NaN       NaN    NaN         40.24  \n",
              "2       709.0  Nintendo      E         35.52  \n",
              "3       192.0  Nintendo      E         32.77  \n",
              "4         NaN       NaN    NaN         31.37  \n",
              "5         NaN       NaN    NaN         30.26  "
            ],
            "text/html": [
              "\n",
              "  <div id=\"df-9ed9bda0-9973-4d5a-b733-f612c5653221\">\n",
              "    <div class=\"colab-df-container\">\n",
              "      <div>\n",
              "<style scoped>\n",
              "    .dataframe tbody tr th:only-of-type {\n",
              "        vertical-align: middle;\n",
              "    }\n",
              "\n",
              "    .dataframe tbody tr th {\n",
              "        vertical-align: top;\n",
              "    }\n",
              "\n",
              "    .dataframe thead th {\n",
              "        text-align: right;\n",
              "    }\n",
              "</style>\n",
              "<table border=\"1\" class=\"dataframe\">\n",
              "  <thead>\n",
              "    <tr style=\"text-align: right;\">\n",
              "      <th></th>\n",
              "      <th>Name</th>\n",
              "      <th>Platform</th>\n",
              "      <th>Year_of_Release</th>\n",
              "      <th>Genre</th>\n",
              "      <th>Publisher</th>\n",
              "      <th>NA_Sales</th>\n",
              "      <th>EU_Sales</th>\n",
              "      <th>JP_Sales</th>\n",
              "      <th>Critic_Score</th>\n",
              "      <th>Critic_Count</th>\n",
              "      <th>User_Score</th>\n",
              "      <th>User_Count</th>\n",
              "      <th>Developer</th>\n",
              "      <th>Rating</th>\n",
              "      <th>Global_Sales</th>\n",
              "    </tr>\n",
              "  </thead>\n",
              "  <tbody>\n",
              "    <tr>\n",
              "      <th>0</th>\n",
              "      <td>Wii Sports</td>\n",
              "      <td>Wii</td>\n",
              "      <td>2006.0</td>\n",
              "      <td>Sports</td>\n",
              "      <td>Nintendo</td>\n",
              "      <td>41.36</td>\n",
              "      <td>28.96</td>\n",
              "      <td>3.77</td>\n",
              "      <td>76.0</td>\n",
              "      <td>51.0</td>\n",
              "      <td>8</td>\n",
              "      <td>322.0</td>\n",
              "      <td>Nintendo</td>\n",
              "      <td>E</td>\n",
              "      <td>82.53</td>\n",
              "    </tr>\n",
              "    <tr>\n",
              "      <th>1</th>\n",
              "      <td>Super Mario Bros.</td>\n",
              "      <td>NES</td>\n",
              "      <td>1985.0</td>\n",
              "      <td>Platform</td>\n",
              "      <td>Nintendo</td>\n",
              "      <td>29.08</td>\n",
              "      <td>3.58</td>\n",
              "      <td>6.81</td>\n",
              "      <td>NaN</td>\n",
              "      <td>NaN</td>\n",
              "      <td>NaN</td>\n",
              "      <td>NaN</td>\n",
              "      <td>NaN</td>\n",
              "      <td>NaN</td>\n",
              "      <td>40.24</td>\n",
              "    </tr>\n",
              "    <tr>\n",
              "      <th>2</th>\n",
              "      <td>Mario Kart Wii</td>\n",
              "      <td>Wii</td>\n",
              "      <td>2008.0</td>\n",
              "      <td>Racing</td>\n",
              "      <td>Nintendo</td>\n",
              "      <td>15.68</td>\n",
              "      <td>12.76</td>\n",
              "      <td>3.79</td>\n",
              "      <td>82.0</td>\n",
              "      <td>73.0</td>\n",
              "      <td>8.3</td>\n",
              "      <td>709.0</td>\n",
              "      <td>Nintendo</td>\n",
              "      <td>E</td>\n",
              "      <td>35.52</td>\n",
              "    </tr>\n",
              "    <tr>\n",
              "      <th>3</th>\n",
              "      <td>Wii Sports Resort</td>\n",
              "      <td>Wii</td>\n",
              "      <td>2009.0</td>\n",
              "      <td>Sports</td>\n",
              "      <td>Nintendo</td>\n",
              "      <td>15.61</td>\n",
              "      <td>10.93</td>\n",
              "      <td>3.28</td>\n",
              "      <td>80.0</td>\n",
              "      <td>73.0</td>\n",
              "      <td>8</td>\n",
              "      <td>192.0</td>\n",
              "      <td>Nintendo</td>\n",
              "      <td>E</td>\n",
              "      <td>32.77</td>\n",
              "    </tr>\n",
              "    <tr>\n",
              "      <th>4</th>\n",
              "      <td>Pokemon Red/Pokemon Blue</td>\n",
              "      <td>GB</td>\n",
              "      <td>1996.0</td>\n",
              "      <td>Role-Playing</td>\n",
              "      <td>Nintendo</td>\n",
              "      <td>11.27</td>\n",
              "      <td>8.89</td>\n",
              "      <td>10.22</td>\n",
              "      <td>NaN</td>\n",
              "      <td>NaN</td>\n",
              "      <td>NaN</td>\n",
              "      <td>NaN</td>\n",
              "      <td>NaN</td>\n",
              "      <td>NaN</td>\n",
              "      <td>31.37</td>\n",
              "    </tr>\n",
              "    <tr>\n",
              "      <th>5</th>\n",
              "      <td>Tetris</td>\n",
              "      <td>GB</td>\n",
              "      <td>1989.0</td>\n",
              "      <td>Puzzle</td>\n",
              "      <td>Nintendo</td>\n",
              "      <td>23.20</td>\n",
              "      <td>2.26</td>\n",
              "      <td>4.22</td>\n",
              "      <td>NaN</td>\n",
              "      <td>NaN</td>\n",
              "      <td>NaN</td>\n",
              "      <td>NaN</td>\n",
              "      <td>NaN</td>\n",
              "      <td>NaN</td>\n",
              "      <td>30.26</td>\n",
              "    </tr>\n",
              "  </tbody>\n",
              "</table>\n",
              "</div>\n",
              "      <button class=\"colab-df-convert\" onclick=\"convertToInteractive('df-9ed9bda0-9973-4d5a-b733-f612c5653221')\"\n",
              "              title=\"Convert this dataframe to an interactive table.\"\n",
              "              style=\"display:none;\">\n",
              "        \n",
              "  <svg xmlns=\"http://www.w3.org/2000/svg\" height=\"24px\"viewBox=\"0 0 24 24\"\n",
              "       width=\"24px\">\n",
              "    <path d=\"M0 0h24v24H0V0z\" fill=\"none\"/>\n",
              "    <path d=\"M18.56 5.44l.94 2.06.94-2.06 2.06-.94-2.06-.94-.94-2.06-.94 2.06-2.06.94zm-11 1L8.5 8.5l.94-2.06 2.06-.94-2.06-.94L8.5 2.5l-.94 2.06-2.06.94zm10 10l.94 2.06.94-2.06 2.06-.94-2.06-.94-.94-2.06-.94 2.06-2.06.94z\"/><path d=\"M17.41 7.96l-1.37-1.37c-.4-.4-.92-.59-1.43-.59-.52 0-1.04.2-1.43.59L10.3 9.45l-7.72 7.72c-.78.78-.78 2.05 0 2.83L4 21.41c.39.39.9.59 1.41.59.51 0 1.02-.2 1.41-.59l7.78-7.78 2.81-2.81c.8-.78.8-2.07 0-2.86zM5.41 20L4 18.59l7.72-7.72 1.47 1.35L5.41 20z\"/>\n",
              "  </svg>\n",
              "      </button>\n",
              "      \n",
              "  <style>\n",
              "    .colab-df-container {\n",
              "      display:flex;\n",
              "      flex-wrap:wrap;\n",
              "      gap: 12px;\n",
              "    }\n",
              "\n",
              "    .colab-df-convert {\n",
              "      background-color: #E8F0FE;\n",
              "      border: none;\n",
              "      border-radius: 50%;\n",
              "      cursor: pointer;\n",
              "      display: none;\n",
              "      fill: #1967D2;\n",
              "      height: 32px;\n",
              "      padding: 0 0 0 0;\n",
              "      width: 32px;\n",
              "    }\n",
              "\n",
              "    .colab-df-convert:hover {\n",
              "      background-color: #E2EBFA;\n",
              "      box-shadow: 0px 1px 2px rgba(60, 64, 67, 0.3), 0px 1px 3px 1px rgba(60, 64, 67, 0.15);\n",
              "      fill: #174EA6;\n",
              "    }\n",
              "\n",
              "    [theme=dark] .colab-df-convert {\n",
              "      background-color: #3B4455;\n",
              "      fill: #D2E3FC;\n",
              "    }\n",
              "\n",
              "    [theme=dark] .colab-df-convert:hover {\n",
              "      background-color: #434B5C;\n",
              "      box-shadow: 0px 1px 3px 1px rgba(0, 0, 0, 0.15);\n",
              "      filter: drop-shadow(0px 1px 2px rgba(0, 0, 0, 0.3));\n",
              "      fill: #FFFFFF;\n",
              "    }\n",
              "  </style>\n",
              "\n",
              "      <script>\n",
              "        const buttonEl =\n",
              "          document.querySelector('#df-9ed9bda0-9973-4d5a-b733-f612c5653221 button.colab-df-convert');\n",
              "        buttonEl.style.display =\n",
              "          google.colab.kernel.accessAllowed ? 'block' : 'none';\n",
              "\n",
              "        async function convertToInteractive(key) {\n",
              "          const element = document.querySelector('#df-9ed9bda0-9973-4d5a-b733-f612c5653221');\n",
              "          const dataTable =\n",
              "            await google.colab.kernel.invokeFunction('convertToInteractive',\n",
              "                                                     [key], {});\n",
              "          if (!dataTable) return;\n",
              "\n",
              "          const docLinkHtml = 'Like what you see? Visit the ' +\n",
              "            '<a target=\"_blank\" href=https://colab.research.google.com/notebooks/data_table.ipynb>data table notebook</a>'\n",
              "            + ' to learn more about interactive tables.';\n",
              "          element.innerHTML = '';\n",
              "          dataTable['output_type'] = 'display_data';\n",
              "          await google.colab.output.renderOutput(dataTable, element);\n",
              "          const docLink = document.createElement('div');\n",
              "          docLink.innerHTML = docLinkHtml;\n",
              "          element.appendChild(docLink);\n",
              "        }\n",
              "      </script>\n",
              "    </div>\n",
              "  </div>\n",
              "  "
            ]
          },
          "metadata": {},
          "execution_count": 213
        }
      ]
    },
    {
      "cell_type": "code",
      "source": [],
      "metadata": {
        "id": "qkHks8iVLBKj"
      },
      "execution_count": null,
      "outputs": []
    },
    {
      "cell_type": "code",
      "source": [
        "df_2 = df[['NA_Sales','Platform']].groupby(by='Platform').sum('NA_Sales')\n",
        "df_2\n",
        "df_2.index\n",
        "fig, ax = plt.subplots(figsize=(20,5))\n",
        "x = df_2.index\n",
        "y = df_2.NA_Sales\n",
        "ax.set_xlabel('Plataformas')\n",
        "ax.set_ylabel('Ventas en NA')\n",
        "ax.set_title('Ventas de Juegos en Plataformas de NA')\n",
        "plt.bar (x,y)\n",
        "plt.show()"
      ],
      "metadata": {
        "colab": {
          "base_uri": "https://localhost:8080/"
        },
        "id": "S7g6R_MT53Np",
        "outputId": "498d9452-737a-49ea-df17-3b5d035dc0e8"
      },
      "execution_count": null,
      "outputs": [
        {
          "output_type": "display_data",
          "data": {
            "text/plain": [
              "<Figure size 1440x360 with 1 Axes>"
            ],
            "image/png": "[encoded data removed]"
          },
          "metadata": {}
        }
      ]
    },
    {
      "cell_type": "markdown",
      "source": [
        "Por el grafico anterior podemos observar como las consolas con mas ventas de juegos son la Xbox 360, la PlayStation 2 y la Nintendo DS. Ninguna de ellas es la consola de ultima generacion, lo que se puede deber a dos principales caracteristicas, el tiempo que las consolas tienen en el mercado es superior a las consolas de ultima generacion como la PS4 y la accesibilidad economica es superior a estas tambien."
      ],
      "metadata": {
        "id": "QPRx74y23lEr"
      }
    },
    {
      "cell_type": "code",
      "source": [
        "df_3 = df[['NA_Sales','Genre']].groupby(by='Genre').sum('NA_Sales')\n",
        "df_3\n",
        "plt.figure(figsize=(20,10))\n",
        "plt.pie(df_3.NA_Sales, labels = df_3.index)\n",
        "plt.title('¿Que generos de juegos se vendieron mas en NA?')"
      ],
      "metadata": {
        "colab": {
          "base_uri": "https://localhost:8080/"
        },
        "id": "y-5JTuhUB9rF",
        "outputId": "62d39736-7f90-4440-97af-84b552a8c98e"
      },
      "execution_count": null,
      "outputs": [
        {
          "output_type": "execute_result",
          "data": {
            "text/plain": [
              "Text(0.5, 1.0, '¿Que generos de juegos se vendieron mas en NA?')"
            ]
          },
          "metadata": {},
          "execution_count": 215
        },
        {
          "output_type": "display_data",
          "data": {
            "text/plain": [
              "<Figure size 1440x720 with 1 Axes>"
            ],
            "image/png": "[encoded data removed]"
          },
          "metadata": {}
        }
      ]
    },
    {
      "cell_type": "markdown",
      "source": [
        "Segun lo graficado en este caso podemos ver como los juegos mas vendidos en los estados unidos son los juegos de accion (incluyendo los Shooters) y los de deportes. Para penetrar en este mercado seria ideal desarrollar juegos de estos generos."
      ],
      "metadata": {
        "id": "5S3bQaaI4jJv"
      }
    },
    {
      "cell_type": "code",
      "source": [
        "agr = df[['Genre','Platform']].groupby('Platform').count()\n",
        "agr = agr.reset_index()\n",
        "sns.barplot(x='Platform', y='Genre', data=agr)\n",
        "plt.title(\"Cantidad de juegos por plataforma\")\n",
        "plt.ylabel(\"Cantidad\")\n",
        "plt.xlabel(\"Plataforma\")"
      ],
      "metadata": {
        "colab": {
          "base_uri": "https://localhost:8080/"
        },
        "id": "_Gjh9sQOFNjI",
        "outputId": "49e317be-c305-4d1d-ff99-2fab6d764e38"
      },
      "execution_count": null,
      "outputs": [
        {
          "output_type": "execute_result",
          "data": {
            "text/plain": [
              "Text(0.5, 0, 'Plataforma')"
            ]
          },
          "metadata": {},
          "execution_count": 216
        },
        {
          "output_type": "display_data",
          "data": {
            "text/plain": [
              "<Figure size 1080x576 with 1 Axes>"
            ],
            "image/png": "[encoded data removed]"
          },
          "metadata": {}
        }
      ]
    },
    {
      "cell_type": "markdown",
      "source": [
        "En contraposicion con el primer grafico podemos ver como a nivel mundial las plataformas que mas juegos han vendido son la PS2 y la DS, muy superiores a la XBOX 360. Esto se debe al resto de los mercados, principalmente el mercado japones que utiliza mas las consolas de Nintendo."
      ],
      "metadata": {
        "id": "Xak5_MeE5XrN"
      }
    },
    {
      "cell_type": "code",
      "source": [
        "df_1 = df[['Global_Sales','Year_of_Release']].groupby(by='Year_of_Release').sum('Global_Sales')\n",
        "df_1\n",
        "fig, ax = plt.subplots(figsize=(20,5))\n",
        "ax.plot(df_1.index,df_1.Global_Sales)\n",
        "ax.set_xlabel('Año de Salida')                  \n",
        "ax.set_ylabel('Ventas Globales')\n",
        "ax.set_title('¿En que años hubo mayor cantidad de ventas de juegos?')\n",
        "plt.plot()"
      ],
      "metadata": {
        "id": "HwfQqPnPz9fh",
        "colab": {
          "base_uri": "https://localhost:8080/"
        },
        "outputId": "0db2811e-7f52-4a3c-89d1-26b7b1c59d9a"
      },
      "execution_count": null,
      "outputs": [
        {
          "output_type": "execute_result",
          "data": {
            "text/plain": [
              "[]"
            ]
          },
          "metadata": {},
          "execution_count": 217
        },
        {
          "output_type": "display_data",
          "data": {
            "text/plain": [
              "<Figure size 1440x360 with 1 Axes>"
            ],
            "image/png": "[encoded data removed]"
          },
          "metadata": {}
        }
      ]
    },
    {
      "cell_type": "markdown",
      "source": [
        "En este caso podemos observar como el año de mas ventas de videojuegos fue el 2008. "
      ],
      "metadata": {
        "id": "a7SLemH656a3"
      }
    },
    {
      "cell_type": "code",
      "source": [
        "sns.lineplot(data=df, x='Platform', y=\"Genre\")\n",
        "plt.title(\"Juegos por genero y Plataforma\")\n",
        "plt.ylabel(\"Genero\")\n",
        "plt.xlabel(\"Plataforma\")"
      ],
      "metadata": {
        "colab": {
          "base_uri": "https://localhost:8080/"
        },
        "id": "iNGtncggFLe2",
        "outputId": "4982f9f4-f128-42f8-f8ed-9fff8895d3f7"
      },
      "execution_count": null,
      "outputs": [
        {
          "output_type": "execute_result",
          "data": {
            "text/plain": [
              "Text(0.5, 0, 'Plataforma')"
            ]
          },
          "metadata": {},
          "execution_count": 218
        },
        {
          "output_type": "display_data",
          "data": {
            "text/plain": [
              "<Figure size 1080x576 with 1 Axes>"
            ],
            "image/png": "[encoded data removed]"
          },
          "metadata": {}
        }
      ]
    },
    {
      "cell_type": "markdown",
      "source": [
        "En este caso podemos afirmar que cada plataforma tiene un genero caracteristico propio. Ni siquiera las diferentes consolas de una misma marca continuan con un solo genero."
      ],
      "metadata": {
        "id": "IQHhzw3H-e1Q"
      }
    },
    {
      "cell_type": "code",
      "source": [
        "sns.set(rc = {'figure.figsize':(15,8)})\n",
        "sns.lineplot(data=df, x='Genre', y=\"NA_Sales\")\n",
        "sns.lineplot(data=df, x='Genre', y=\"EU_Sales\")\n",
        "sns.lineplot(data=df, x='Genre', y='JP_Sales')\n",
        "plt.legend(labels=[\"Estados Unidos\",\"Europa\",\"Japon\"])\n",
        "plt.title(\"Juegos por genero y region\")\n",
        "plt.ylabel(\"Ventas por Region\")\n",
        "plt.xlabel(\"Genero\")"
      ],
      "metadata": {
        "colab": {
          "base_uri": "https://localhost:8080/"
        },
        "id": "c_8a93DcFF3B",
        "outputId": "95a8b594-b50c-4aea-d883-4f0f8a534926"
      },
      "execution_count": null,
      "outputs": [
        {
          "output_type": "execute_result",
          "data": {
            "text/plain": [
              "Text(0.5, 0, 'Genero')"
            ]
          },
          "metadata": {},
          "execution_count": 219
        },
        {
          "output_type": "display_data",
          "data": {
            "text/plain": [
              "<Figure size 1080x576 with 1 Axes>"
            ],
            "image/png": "[encoded data removed]"
          },
          "metadata": {}
        }
      ]
    },
    {
      "cell_type": "markdown",
      "source": [
        "Segun esta grafica podemos en primer lugar ver como los RPG son ampliamente vendidos en Japon pero apenas alcanza la misma cantidad de ventas que en Estados Unidos. Esto habla del tamaño superior de ventas de Estados Unidos frente a otros mercados. Por otro lado podemos observar como el mercado europeo es similar en gustos y caracteristicas al mercado de Estados Unidos y a su vez estos son bastante diferentes a los gustos del mercado japones."
      ],
      "metadata": {
        "id": "cz-9a4iv7c4X"
      }
    },
    {
      "cell_type": "code",
      "source": [
        "sns.scatterplot(data=df, x='Rating', y='NA_Sales') \n",
        "sns.scatterplot(data=df, x='Rating', y='EU_Sales')\n",
        "sns.scatterplot(data=df, x='Rating', y='JP_Sales')\n",
        "plt.legend(labels=[\"Estados Unidos\",\"Europa\",\"Japon\"])\n",
        "plt.title(\"Cantidad de ventas por clasificacion y region\")\n",
        "plt.ylabel(\"Cantidad de ventas\")\n",
        "plt.xlabel(\"Clasificacion\")"
      ],
      "metadata": {
        "colab": {
          "base_uri": "https://localhost:8080/"
        },
        "id": "V2DjpRQrFQ7p",
        "outputId": "81f8b98c-eedd-478e-d3bf-273f315f6bbd"
      },
      "execution_count": null,
      "outputs": [
        {
          "output_type": "execute_result",
          "data": {
            "text/plain": [
              "Text(0.5, 0, 'Clasificacion')"
            ]
          },
          "metadata": {},
          "execution_count": 220
        },
        {
          "output_type": "display_data",
          "data": {
            "text/plain": [
              "<Figure size 1080x576 with 1 Axes>"
            ],
            "image/png": "[encoded data removed]"
          },
          "metadata": {}
        }
      ]
    },
    {
      "cell_type": "markdown",
      "source": [
        "Segun esta grafica podemos ver como los juegos con clasificacion E (para todo el mundo) son los mas vendidos en los tres mercados, seguidos por la clasificacion M (Mature +17 años) y T (Teen). Mientras que los menos vendidos son RP (Rating Pending), seguido por EC (Early Childhood) y AO (Adults Only)"
      ],
      "metadata": {
        "id": "DLiA1l5A8azG"
      }
    },
    {
      "cell_type": "markdown",
      "source": [
        "### **Estructurando un Proyecto de DS (parte II) - Borda y Pagano**"
      ],
      "metadata": {
        "id": "DV_TsDk9EjSR"
      }
    },
    {
      "cell_type": "markdown",
      "source": [
        "**Consigna**\n",
        "\n",
        "Deberemos complementar la parte I con:\n",
        "1. Abstracto con motivación y audiencia\n",
        "2. Preguntas/Hipótesis que queremos resolver mediante el análisis de datos\n",
        "3. Análisis Exploratorio de Datos (EDA)\n",
        "4. Con base en las visualizaciones y resúmenes numéricos generados del desafío anterior dar recomendaciones basados en los insights observados.\n",
        "5. Para esta oportunidad se deberán tener avances en los apartados: Definición de objetivo, Contexto comercial, Problema Comercial, Contexto analitico, Exploración de datos (EDA)\n"
      ],
      "metadata": {
        "id": "TzxgBUdrE3aA"
      }
    },
    {
      "cell_type": "markdown",
      "source": [
        "**Definicion de Objetivo**\n",
        "\n",
        "Por medio de este trabajo, nuestro objetivo es definir que tipo de videojuego y en que consola puede llegar a tener mayor exito tanto en el mercado oriental como el occidental.\n"
      ],
      "metadata": {
        "id": "lRlGYOQZFMFr"
      }
    },
    {
      "cell_type": "markdown",
      "source": [
        "**Contexto Comercial**\n",
        "\n",
        "Las empresas desarrolladoras de videojuegos estan cansadas de crear juegos que no sean rentables en algunos de los mayores mercados del mundo, ya sea el mercado japones, estadounidense o europeo. Las diferencias culturales entre los orientales y occidentales afectan tambien a desarrollar un distinto perfil de gamer. Por esto, las empresas de videojuegos nos contrataron para que podamos encontrar que tipo y estilo de juego pueda encajar en la mayor cantidad de perfiles que existen. De esta manera, se aseguraran en un gran porcentaje el exito del nuevo juego."
      ],
      "metadata": {
        "id": "7cru6rSXNqqV"
      }
    },
    {
      "cell_type": "markdown",
      "source": [
        "**Problema Comercial**\n",
        "\n",
        "Nos hacemos las siguientes preguntas:\n",
        "\n",
        "\n",
        "\n",
        "*   ¿Que genero de juego tiene mayor aceptacion en los tres mercados?\n",
        "*   ¿Cuales son esos juegos? ¿Cual es su trama?\n",
        "\n",
        "\n",
        "*   ¿Que consola tiene mayor aceptacion en los tres mercados?\n",
        "*   ¿Cual es esta consola? ¿Que la diferencia con las otras?\n",
        "\n",
        "*   ¿Que juego tiene mayor valoracion por los criticos? ¿Y por los usuarios?\n",
        "*   ¿Los juegos que tienen mayor valoracion fueron de los mas vendidos en alguno de los mercados?\n",
        "\n",
        "*   ¿El exito de los juegos en sus ventas globales coincide con el exito en alguno de los tres principales mercados?\n",
        "\n",
        "\n",
        "\n",
        "\n",
        "\n",
        "\n",
        "\n"
      ],
      "metadata": {
        "id": "mOadejhTPcxR"
      }
    },
    {
      "cell_type": "markdown",
      "source": [
        "**Contexto Analitico**\n",
        "\n",
        "Junto a este notebook encontraran el archivo \"Video_Game_Sales.csv\" que contiene los detalles de cada juego. Entre sus columnas, encontraran: 'Name', 'Platform', 'Year_of_Release', 'Genre', 'Publisher', 'NA_Sales', 'EU_Sales', 'JP_Sales', 'Critic_Score', 'Critic_Count', 'User_Score', 'User_Count', 'Developer', 'Rating', 'Global_Sales'. \n",
        "\n",
        "El delimitador en el archivo .CSV brindado es “,”."
      ],
      "metadata": {
        "id": "O9TjtfLdTLHK"
      }
    },
    {
      "cell_type": "code",
      "source": [
        "df.head(5)"
      ],
      "metadata": {
        "colab": {
          "base_uri": "https://localhost:8080/",
          "height": 163
        },
        "id": "VsGndpgwUYQW",
        "outputId": "f1c4fe2f-8fb7-4776-c2ff-cd7e6df7e402"
      },
      "execution_count": null,
      "outputs": [
        {
          "output_type": "error",
          "ename": "NameError",
          "evalue": "ignored",
          "traceback": [
            "\u001b[0;31m---------------------------------------------------------------------------\u001b[0m",
            "\u001b[0;31mNameError\u001b[0m                                 Traceback (most recent call last)",
            "\u001b[0;32m<ipython-input-1-a29405eb924b>\u001b[0m in \u001b[0;36m<module>\u001b[0;34m\u001b[0m\n\u001b[0;32m----> 1\u001b[0;31m \u001b[0mdf\u001b[0m\u001b[0;34m.\u001b[0m\u001b[0mhead\u001b[0m\u001b[0;34m(\u001b[0m\u001b[0;36m5\u001b[0m\u001b[0;34m)\u001b[0m\u001b[0;34m\u001b[0m\u001b[0;34m\u001b[0m\u001b[0m\n\u001b[0m",
            "\u001b[0;31mNameError\u001b[0m: name 'df' is not defined"
          ]
        }
      ]
    },
    {
      "cell_type": "code",
      "source": [
        "df.columns"
      ],
      "metadata": {
        "id": "RXyMkdoBUviA"
      },
      "execution_count": null,
      "outputs": []
    },
    {
      "cell_type": "code",
      "source": [
        "df.describe"
      ],
      "metadata": {
        "id": "54Ll0W6zU8fF"
      },
      "execution_count": null,
      "outputs": []
    },
    {
      "cell_type": "code",
      "source": [
        "df.shape"
      ],
      "metadata": {
        "id": "itBGuHFPU0zd"
      },
      "execution_count": null,
      "outputs": []
    },
    {
      "cell_type": "markdown",
      "source": [
        "\n",
        "\n",
        "**EDA - EXPLORATORY DATA ANALYSIS**"
      ],
      "metadata": {
        "id": "WUNnyJwOXuLW"
      }
    },
    {
      "cell_type": "code",
      "source": [
        "#Vemos la vision general de los datos para una primera impresion\n",
        "df.head(5)"
      ],
      "metadata": {
        "id": "F5Y4gM7LX1qB"
      },
      "execution_count": null,
      "outputs": []
    },
    {
      "cell_type": "code",
      "source": [
        "#Podemos ver los nombres de las columnas de nuestra database y el tamaño de la misma\n",
        "print('Cantidad de Filas y columnas:',df.shape)\n",
        "print('Nombre columnas:',df.columns)"
      ],
      "metadata": {
        "id": "X0-IPLzGYTSB"
      },
      "execution_count": null,
      "outputs": []
    },
    {
      "cell_type": "code",
      "source": [
        "#podemos ver los tipos de datos y caracteristicas de las variables\n",
        "df.info()"
      ],
      "metadata": {
        "id": "I48zqmC3YsDM"
      },
      "execution_count": null,
      "outputs": []
    },
    {
      "cell_type": "code",
      "source": [
        "#Analizamos los valores nulos\n",
        "df.isnull().sum()"
      ],
      "metadata": {
        "id": "121hH2UbcD0s"
      },
      "execution_count": null,
      "outputs": []
    },
    {
      "cell_type": "code",
      "source": [
        "#Analizamos los datos numericos y sus datos estadisticos \n",
        "df.describe()"
      ],
      "metadata": {
        "id": "RCtBFv4DYzHQ"
      },
      "execution_count": null,
      "outputs": []
    },
    {
      "cell_type": "markdown",
      "source": [
        "Nos llama la atencion la gran diferencia entre el valor del 75% y el maximo de NA_Sales, EU_Sales y JP_Sales. Mas adelante realizaremos un analisis de posibles outliers. Lo mismo ocurre con User_Count"
      ],
      "metadata": {
        "id": "Qf1l1W-XiOvm"
      }
    },
    {
      "cell_type": "code",
      "source": [
        "#Analizamos la correlacion entre los datos\n",
        "import statsmodels.api as sm\n",
        "corr = df.set_index('Global_Sales').corr()\n",
        "sm.graphics.plot_corr(corr, xnames=list(corr.columns))\n",
        "plt.show()"
      ],
      "metadata": {
        "id": "WASjOyfYY7cA"
      },
      "execution_count": null,
      "outputs": []
    },
    {
      "cell_type": "markdown",
      "source": [
        "Vemos que no existen variables con altas coorelaciones."
      ],
      "metadata": {
        "id": "8JK8pKVfdy_f"
      }
    },
    {
      "cell_type": "code",
      "source": [
        "#Analizamos posibles outliers en NA_Sales\n",
        "plt.figure(figsize=(6,4))\n",
        "sns.boxplot(df['NA_Sales'])\n",
        "plt.show()"
      ],
      "metadata": {
        "id": "oihPjl8XeYsH"
      },
      "execution_count": null,
      "outputs": []
    },
    {
      "cell_type": "code",
      "source": [
        "#Filtramos los posibles outliers de NA_Sales\n",
        "outliers_NA_Sales = df[df.NA_Sales > 20]\n",
        "outliers_NA_Sales.head()"
      ],
      "metadata": {
        "id": "qzHO4lTVj2YR"
      },
      "execution_count": null,
      "outputs": []
    },
    {
      "cell_type": "code",
      "source": [
        "#Analizamos posibles outliers en EU_Sales\n",
        "plt.figure(figsize=(6,4))\n",
        "sns.boxplot(df['EU_Sales'])\n",
        "plt.show()"
      ],
      "metadata": {
        "id": "TFVC69zahYAC"
      },
      "execution_count": null,
      "outputs": []
    },
    {
      "cell_type": "code",
      "source": [
        "#Filtramos los posibles outliers de EU_Sales\n",
        "outliers_EU_Sales = df[df.EU_Sales > 25]\n",
        "outliers_EU_Sales.head()"
      ],
      "metadata": {
        "id": "YgDBDmrpkWeD"
      },
      "execution_count": null,
      "outputs": []
    },
    {
      "cell_type": "code",
      "source": [
        "#Analizamos posibles outliers en JP_Sales\n",
        "plt.figure(figsize=(6,4))\n",
        "sns.boxplot(df['JP_Sales'])\n",
        "plt.show()"
      ],
      "metadata": {
        "id": "3FRLC1eQhcty"
      },
      "execution_count": null,
      "outputs": []
    },
    {
      "cell_type": "code",
      "source": [
        "#Filtramos los posibles outliers de JP_Sales\n",
        "outliers_JP_Sales = df[df.JP_Sales > 10]\n",
        "outliers_JP_Sales.head()"
      ],
      "metadata": {
        "id": "PI1hAVLRkkq6"
      },
      "execution_count": null,
      "outputs": []
    },
    {
      "cell_type": "markdown",
      "source": [
        "Segun nuestro analisis de outliers podemos estimar que no se trate de desvios en la informacion sino que se trata juegos historicos con ventas record como tratarse de Mario Bros, Pokemon Red o Tetris."
      ],
      "metadata": {
        "id": "VPIOoYbck87a"
      }
    },
    {
      "cell_type": "code",
      "source": [
        "#Analizamos posibles outliers en User_Count\n",
        "plt.figure(figsize=(6,4))\n",
        "sns.boxplot(df['User_Count'])\n",
        "plt.show()"
      ],
      "metadata": {
        "id": "_7TIlk-9lfXg"
      },
      "execution_count": null,
      "outputs": []
    },
    {
      "cell_type": "code",
      "source": [
        "#Filtramos los posibles outliers de User_Count\n",
        "outliers_User_Count = df[df.User_Count > 8000]\n",
        "outliers_User_Count.head()"
      ],
      "metadata": {
        "id": "oKJGMe92lofD"
      },
      "execution_count": null,
      "outputs": []
    },
    {
      "cell_type": "markdown",
      "source": [
        "En este caso podemos ver que los juegos que se encuentran entre los tops de usuarios son juegos de record de ventas por lo que consideramos que no es necesario normalizar estos datos"
      ],
      "metadata": {
        "id": "_jhuv3CEmXXA"
      }
    },
    {
      "cell_type": "code",
      "source": [
        "df['User_Score'] = pd.to_numeric(df['User_Score'],errors = 'coerce')\n"
      ],
      "metadata": {
        "id": "JBE2RgBIz4V0"
      },
      "execution_count": null,
      "outputs": []
    },
    {
      "cell_type": "code",
      "source": [
        "from sklearn.preprocessing import OrdinalEncoder\n",
        "\n",
        "\n",
        "enc = OrdinalEncoder()\n",
        "enc.fit(df[[\"Name\"]])\n",
        "df[[\"Name_code\"]] = enc.transform(df[[\"Name\"]])\n"
      ],
      "metadata": {
        "id": "DaROKhBY02YC"
      },
      "execution_count": null,
      "outputs": []
    },
    {
      "cell_type": "code",
      "source": [
        "dummy_columns = {\n",
        "    'Platform': {\n",
        "        'prefix': 'PLAT',\n",
        "        'sep': ';'\n",
        "    }\n",
        " }\n",
        "\n",
        "for column_name, dummy_data in dummy_columns.items():\n",
        "\t# Recogemos un DataFrame con una columna dummy por cada valor\n",
        "    dummies = df[column_name].str.get_dummies(sep=dummy_data['sep'])\n",
        "\n",
        "    # Añadimos `prefix` a cada columna\n",
        "    dummies.columns = map(lambda col: f'{dummy_data[\"prefix\"]}_{col}', dummies.columns)\n",
        "    \n",
        "    # Añadimos las columnas dummy al df original\n",
        "    df = pd.concat([df, dummies], axis=1)"
      ],
      "metadata": {
        "id": "f6Xdp6CuzEoJ"
      },
      "execution_count": null,
      "outputs": []
    },
    {
      "cell_type": "code",
      "source": [
        "dummy_columns = {\n",
        "'Genre': {\n",
        "        'prefix': 'Genre',\n",
        "        'sep': ';'\n",
        "    }\n",
        " }\n",
        "\n",
        "for column_name, dummy_data in dummy_columns.items():\n",
        "\t# Recogemos un DataFrame con una columna dummy por cada valor\n",
        "    dummies = df[column_name].str.get_dummies(sep=dummy_data['sep'])\n",
        "\n",
        "    # Añadimos `prefix` a cada columna\n",
        "    dummies.columns = map(lambda col: f'{dummy_data[\"prefix\"]}_{col}', dummies.columns)\n",
        "    \n",
        "    # Añadimos las columnas dummy al df original\n",
        "    df = pd.concat([df, dummies], axis=1)\n"
      ],
      "metadata": {
        "id": "a52PEz67zH1a"
      },
      "execution_count": null,
      "outputs": []
    },
    {
      "cell_type": "code",
      "source": [
        "dummy_columns = {\n",
        "  'Publisher': {\n",
        "        'prefix': 'Publisher',\n",
        "        'sep': ';'\n",
        "    }\n",
        " }\n",
        "\n",
        "for column_name, dummy_data in dummy_columns.items():\n",
        "\t# Recogemos un DataFrame con una columna dummy por cada valor\n",
        "    dummies = df[column_name].str.get_dummies(sep=dummy_data['sep'])\n",
        "\n",
        "    # Añadimos `prefix` a cada columna\n",
        "    dummies.columns = map(lambda col: f'{dummy_data[\"prefix\"]}_{col}', dummies.columns)\n",
        "    \n",
        "    # Añadimos las columnas dummy al df original\n",
        "    df = pd.concat([df, dummies], axis=1)\n"
      ],
      "metadata": {
        "id": "3E8_sRT3zW2D"
      },
      "execution_count": null,
      "outputs": []
    },
    {
      "cell_type": "code",
      "source": [
        "dummy_columns = {\n",
        "    'Developer': {\n",
        "        'prefix': 'Developer',\n",
        "        'sep': ';'\n",
        "    }\n",
        " }\n",
        "\n",
        "for column_name, dummy_data in dummy_columns.items():\n",
        "\t# Recogemos un DataFrame con una columna dummy por cada valor\n",
        "    dummies = df[column_name].str.get_dummies(sep=dummy_data['sep'])\n",
        "\n",
        "    # Añadimos `prefix` a cada columna\n",
        "    dummies.columns = map(lambda col: f'{dummy_data[\"prefix\"]}_{col}', dummies.columns)\n",
        "    \n",
        "    # Añadimos las columnas dummy al df original\n",
        "    df = pd.concat([df, dummies], axis=1)\n"
      ],
      "metadata": {
        "id": "THPSgo6mzb5S"
      },
      "execution_count": null,
      "outputs": []
    },
    {
      "cell_type": "code",
      "source": [
        "dummy_columns = {\n",
        "    'Rating': {\n",
        "        'prefix': 'Rating',\n",
        "        'sep': ';'\n",
        "    }\n",
        " }\n",
        "\n",
        "for column_name, dummy_data in dummy_columns.items():\n",
        "\t# Recogemos un DataFrame con una columna dummy por cada valor\n",
        "    dummies = df[column_name].str.get_dummies(sep=dummy_data['sep'])\n",
        "\n",
        "    # Añadimos `prefix` a cada columna\n",
        "    dummies.columns = map(lambda col: f'{dummy_data[\"prefix\"]}_{col}', dummies.columns)\n",
        "    \n",
        "    # Añadimos las columnas dummy al df original\n",
        "    df = pd.concat([df, dummies], axis=1)"
      ],
      "metadata": {
        "id": "-LJh7vphzhsS"
      },
      "execution_count": null,
      "outputs": []
    },
    {
      "cell_type": "code",
      "source": [
        "df.head()"
      ],
      "metadata": {
        "id": "tDp6JCfj4bGz"
      },
      "execution_count": null,
      "outputs": []
    },
    {
      "cell_type": "code",
      "source": [
        "from sklearn.preprocessing import MinMaxScaler\n",
        "scaler = MinMaxScaler()\n",
        "transformed_df = scaler.fit_transform(df.iloc[:, 5:12])\n",
        "transformed_df = pd.DataFrame(transformed_df)\n",
        "df[\"NA_Sales_Tranformed\"] = transformed_df[0]\n",
        "df[\"EU_Sales_Tranformed\"] = transformed_df[1]\n",
        "df[\"JP_Sales_Tranformed\"] = transformed_df[2]\n",
        "df[\"Critic_Score_Tranformed\"] = transformed_df[3]\n",
        "df[\"Critic_Count_Tranformed\"] = transformed_df[4]\n",
        "df[\"User_Score_Tranformed\"] = transformed_df[5]\n",
        "df[\"User_Count_Tranformed\"] = transformed_df[6]\n",
        "\n",
        "\n",
        "transformed_df = scaler.fit_transform(df.iloc[:, 14:])\n",
        "transformed_df = pd.DataFrame(transformed_df)\n",
        "df[\"Global_Sales_Tranformed\"] = transformed_df[0]\n",
        "\n",
        "df.head()"
      ],
      "metadata": {
        "id": "Vm6IbwSW5Ihh"
      },
      "execution_count": null,
      "outputs": []
    },
    {
      "cell_type": "code",
      "source": [
        "#Analizamos los datos numericos y sus datos estadisticos \n",
        "df[['NA_Sales','NA_Sales_Tranformed','EU_Sales','EU_Sales_Tranformed','JP_Sales','JP_Sales_Tranformed','Critic_Score','Critic_Score_Tranformed'\n",
        ",'Critic_Count','Critic_Count_Tranformed','User_Score','User_Score_Tranformed','User_Count','User_Count_Tranformed'\n",
        ",'Global_Sales','Global_Sales_Tranformed']].describe().T"
      ],
      "metadata": {
        "id": "16GpNGJ5C1Ks"
      },
      "execution_count": null,
      "outputs": []
    },
    {
      "cell_type": "code",
      "source": [
        "df.info() "
      ],
      "metadata": {
        "id": "-uzKu08PDL5K"
      },
      "execution_count": null,
      "outputs": []
    },
    {
      "cell_type": "markdown",
      "source": [
        "###**Estructurando un Proyecto DS (Parte III) - Borda y Pagano**"
      ],
      "metadata": {
        "id": "PWuaFzJM7x6y"
      }
    },
    {
      "cell_type": "markdown",
      "source": [
        "**Consigna**\n",
        "\n",
        "Crearán un notebook que complemente el trabajo realizado en los siguientes apartados:\n",
        "\n",
        "1.   elegir un método de feature selection para reducir la dimensionalidad del dataset.\n",
        "2.   elegir un algoritmo de regresión o clasificación para entrenar con los datos elegidos.\n",
        "3.   cálculo de métricas para validar el modelo.\n",
        "4.   generar conclusiones con base en los resultados obtenidos. "
      ],
      "metadata": {
        "id": "bxR3tqpT9T0A"
      }
    },
    {
      "cell_type": "code",
      "metadata": {
        "colab": {
          "base_uri": "https://localhost:8080/",
          "height": 297
        },
        "outputId": "c799b6f5-a3d1-4aad-e95e-a5bfc7bad0f5",
        "id": "L8mJNxfnDcCA"
      },
      "source": [
        "#Eliminamos los datos categoricos para este ejercicio\n",
        "del df['Name']\n",
        "del df['Platform']\n",
        "del df['Genre']\n",
        "del df['Publisher']\n",
        "del df['Developer']\n",
        "del df['Rating']\n",
        "df.head()"
      ],
      "execution_count": null,
      "outputs": [
        {
          "output_type": "execute_result",
          "data": {
            "text/plain": [
              "   Year_of_Release  NA_Sales  EU_Sales  JP_Sales  Critic_Score  Critic_Count  \\\n",
              "0           2006.0     41.36     28.96      3.77          76.0          51.0   \n",
              "1           1985.0     29.08      3.58      6.81           NaN           NaN   \n",
              "2           2008.0     15.68     12.76      3.79          82.0          73.0   \n",
              "3           2009.0     15.61     10.93      3.28          80.0          73.0   \n",
              "4           1996.0     11.27      8.89     10.22           NaN           NaN   \n",
              "\n",
              "   User_Score  User_Count  Global_Sales  Name_code  ...  Rating_RP  Rating_T  \\\n",
              "0         8.0       322.0         82.53     9896.0  ...          0         0   \n",
              "1         NaN         NaN         40.24     8351.0  ...          0         0   \n",
              "2         8.3       709.0         35.52     4965.0  ...          0         0   \n",
              "3         8.0       192.0         32.77     9898.0  ...          0         0   \n",
              "4         NaN         NaN         31.37     6569.0  ...          0         0   \n",
              "\n",
              "   NA_Sales_Tranformed  EU_Sales_Tranformed  JP_Sales_Tranformed  \\\n",
              "0             1.000000             1.000000             0.368885   \n",
              "1             0.703095             0.123619             0.666341   \n",
              "2             0.379110             0.440608             0.370841   \n",
              "3             0.377418             0.377417             0.320939   \n",
              "4             0.272485             0.306975             1.000000   \n",
              "\n",
              "   Critic_Score_Tranformed  Critic_Count_Tranformed  User_Score_Tranformed  \\\n",
              "0                 0.741176                 0.436364               0.824742   \n",
              "1                      NaN                      NaN                    NaN   \n",
              "2                 0.811765                 0.636364               0.855670   \n",
              "3                 0.788235                 0.636364               0.824742   \n",
              "4                      NaN                      NaN                    NaN   \n",
              "\n",
              "   User_Count_Tranformed  Global_Sales_Tranformed  \n",
              "0               0.029828                 1.000000  \n",
              "1                    NaN                 0.487518  \n",
              "2               0.066129                 0.430320  \n",
              "3               0.017634                 0.396995  \n",
              "4                    NaN                 0.380029  \n",
              "\n",
              "[5 rows x 2198 columns]"
            ],
            "text/html": [
              "\n",
              "  <div id=\"df-105712e8-e777-4143-aaae-8c3dd37cb357\">\n",
              "    <div class=\"colab-df-container\">\n",
              "      <div>\n",
              "<style scoped>\n",
              "    .dataframe tbody tr th:only-of-type {\n",
              "        vertical-align: middle;\n",
              "    }\n",
              "\n",
              "    .dataframe tbody tr th {\n",
              "        vertical-align: top;\n",
              "    }\n",
              "\n",
              "    .dataframe thead th {\n",
              "        text-align: right;\n",
              "    }\n",
              "</style>\n",
              "<table border=\"1\" class=\"dataframe\">\n",
              "  <thead>\n",
              "    <tr style=\"text-align: right;\">\n",
              "      <th></th>\n",
              "      <th>Year_of_Release</th>\n",
              "      <th>NA_Sales</th>\n",
              "      <th>EU_Sales</th>\n",
              "      <th>JP_Sales</th>\n",
              "      <th>Critic_Score</th>\n",
              "      <th>Critic_Count</th>\n",
              "      <th>User_Score</th>\n",
              "      <th>User_Count</th>\n",
              "      <th>Global_Sales</th>\n",
              "      <th>Name_code</th>\n",
              "      <th>...</th>\n",
              "      <th>Rating_RP</th>\n",
              "      <th>Rating_T</th>\n",
              "      <th>NA_Sales_Tranformed</th>\n",
              "      <th>EU_Sales_Tranformed</th>\n",
              "      <th>JP_Sales_Tranformed</th>\n",
              "      <th>Critic_Score_Tranformed</th>\n",
              "      <th>Critic_Count_Tranformed</th>\n",
              "      <th>User_Score_Tranformed</th>\n",
              "      <th>User_Count_Tranformed</th>\n",
              "      <th>Global_Sales_Tranformed</th>\n",
              "    </tr>\n",
              "  </thead>\n",
              "  <tbody>\n",
              "    <tr>\n",
              "      <th>0</th>\n",
              "      <td>2006.0</td>\n",
              "      <td>41.36</td>\n",
              "      <td>28.96</td>\n",
              "      <td>3.77</td>\n",
              "      <td>76.0</td>\n",
              "      <td>51.0</td>\n",
              "      <td>8.0</td>\n",
              "      <td>322.0</td>\n",
              "      <td>82.53</td>\n",
              "      <td>9896.0</td>\n",
              "      <td>...</td>\n",
              "      <td>0</td>\n",
              "      <td>0</td>\n",
              "      <td>1.000000</td>\n",
              "      <td>1.000000</td>\n",
              "      <td>0.368885</td>\n",
              "      <td>0.741176</td>\n",
              "      <td>0.436364</td>\n",
              "      <td>0.824742</td>\n",
              "      <td>0.029828</td>\n",
              "      <td>1.000000</td>\n",
              "    </tr>\n",
              "    <tr>\n",
              "      <th>1</th>\n",
              "      <td>1985.0</td>\n",
              "      <td>29.08</td>\n",
              "      <td>3.58</td>\n",
              "      <td>6.81</td>\n",
              "      <td>NaN</td>\n",
              "      <td>NaN</td>\n",
              "      <td>NaN</td>\n",
              "      <td>NaN</td>\n",
              "      <td>40.24</td>\n",
              "      <td>8351.0</td>\n",
              "      <td>...</td>\n",
              "      <td>0</td>\n",
              "      <td>0</td>\n",
              "      <td>0.703095</td>\n",
              "      <td>0.123619</td>\n",
              "      <td>0.666341</td>\n",
              "      <td>NaN</td>\n",
              "      <td>NaN</td>\n",
              "      <td>NaN</td>\n",
              "      <td>NaN</td>\n",
              "      <td>0.487518</td>\n",
              "    </tr>\n",
              "    <tr>\n",
              "      <th>2</th>\n",
              "      <td>2008.0</td>\n",
              "      <td>15.68</td>\n",
              "      <td>12.76</td>\n",
              "      <td>3.79</td>\n",
              "      <td>82.0</td>\n",
              "      <td>73.0</td>\n",
              "      <td>8.3</td>\n",
              "      <td>709.0</td>\n",
              "      <td>35.52</td>\n",
              "      <td>4965.0</td>\n",
              "      <td>...</td>\n",
              "      <td>0</td>\n",
              "      <td>0</td>\n",
              "      <td>0.379110</td>\n",
              "      <td>0.440608</td>\n",
              "      <td>0.370841</td>\n",
              "      <td>0.811765</td>\n",
              "      <td>0.636364</td>\n",
              "      <td>0.855670</td>\n",
              "      <td>0.066129</td>\n",
              "      <td>0.430320</td>\n",
              "    </tr>\n",
              "    <tr>\n",
              "      <th>3</th>\n",
              "      <td>2009.0</td>\n",
              "      <td>15.61</td>\n",
              "      <td>10.93</td>\n",
              "      <td>3.28</td>\n",
              "      <td>80.0</td>\n",
              "      <td>73.0</td>\n",
              "      <td>8.0</td>\n",
              "      <td>192.0</td>\n",
              "      <td>32.77</td>\n",
              "      <td>9898.0</td>\n",
              "      <td>...</td>\n",
              "      <td>0</td>\n",
              "      <td>0</td>\n",
              "      <td>0.377418</td>\n",
              "      <td>0.377417</td>\n",
              "      <td>0.320939</td>\n",
              "      <td>0.788235</td>\n",
              "      <td>0.636364</td>\n",
              "      <td>0.824742</td>\n",
              "      <td>0.017634</td>\n",
              "      <td>0.396995</td>\n",
              "    </tr>\n",
              "    <tr>\n",
              "      <th>4</th>\n",
              "      <td>1996.0</td>\n",
              "      <td>11.27</td>\n",
              "      <td>8.89</td>\n",
              "      <td>10.22</td>\n",
              "      <td>NaN</td>\n",
              "      <td>NaN</td>\n",
              "      <td>NaN</td>\n",
              "      <td>NaN</td>\n",
              "      <td>31.37</td>\n",
              "      <td>6569.0</td>\n",
              "      <td>...</td>\n",
              "      <td>0</td>\n",
              "      <td>0</td>\n",
              "      <td>0.272485</td>\n",
              "      <td>0.306975</td>\n",
              "      <td>1.000000</td>\n",
              "      <td>NaN</td>\n",
              "      <td>NaN</td>\n",
              "      <td>NaN</td>\n",
              "      <td>NaN</td>\n",
              "      <td>0.380029</td>\n",
              "    </tr>\n",
              "  </tbody>\n",
              "</table>\n",
              "<p>5 rows × 2198 columns</p>\n",
              "</div>\n",
              "      <button class=\"colab-df-convert\" onclick=\"convertToInteractive('df-105712e8-e777-4143-aaae-8c3dd37cb357')\"\n",
              "              title=\"Convert this dataframe to an interactive table.\"\n",
              "              style=\"display:none;\">\n",
              "        \n",
              "  <svg xmlns=\"http://www.w3.org/2000/svg\" height=\"24px\"viewBox=\"0 0 24 24\"\n",
              "       width=\"24px\">\n",
              "    <path d=\"M0 0h24v24H0V0z\" fill=\"none\"/>\n",
              "    <path d=\"M18.56 5.44l.94 2.06.94-2.06 2.06-.94-2.06-.94-.94-2.06-.94 2.06-2.06.94zm-11 1L8.5 8.5l.94-2.06 2.06-.94-2.06-.94L8.5 2.5l-.94 2.06-2.06.94zm10 10l.94 2.06.94-2.06 2.06-.94-2.06-.94-.94-2.06-.94 2.06-2.06.94z\"/><path d=\"M17.41 7.96l-1.37-1.37c-.4-.4-.92-.59-1.43-.59-.52 0-1.04.2-1.43.59L10.3 9.45l-7.72 7.72c-.78.78-.78 2.05 0 2.83L4 21.41c.39.39.9.59 1.41.59.51 0 1.02-.2 1.41-.59l7.78-7.78 2.81-2.81c.8-.78.8-2.07 0-2.86zM5.41 20L4 18.59l7.72-7.72 1.47 1.35L5.41 20z\"/>\n",
              "  </svg>\n",
              "      </button>\n",
              "      \n",
              "  <style>\n",
              "    .colab-df-container {\n",
              "      display:flex;\n",
              "      flex-wrap:wrap;\n",
              "      gap: 12px;\n",
              "    }\n",
              "\n",
              "    .colab-df-convert {\n",
              "      background-color: #E8F0FE;\n",
              "      border: none;\n",
              "      border-radius: 50%;\n",
              "      cursor: pointer;\n",
              "      display: none;\n",
              "      fill: #1967D2;\n",
              "      height: 32px;\n",
              "      padding: 0 0 0 0;\n",
              "      width: 32px;\n",
              "    }\n",
              "\n",
              "    .colab-df-convert:hover {\n",
              "      background-color: #E2EBFA;\n",
              "      box-shadow: 0px 1px 2px rgba(60, 64, 67, 0.3), 0px 1px 3px 1px rgba(60, 64, 67, 0.15);\n",
              "      fill: #174EA6;\n",
              "    }\n",
              "\n",
              "    [theme=dark] .colab-df-convert {\n",
              "      background-color: #3B4455;\n",
              "      fill: #D2E3FC;\n",
              "    }\n",
              "\n",
              "    [theme=dark] .colab-df-convert:hover {\n",
              "      background-color: #434B5C;\n",
              "      box-shadow: 0px 1px 3px 1px rgba(0, 0, 0, 0.15);\n",
              "      filter: drop-shadow(0px 1px 2px rgba(0, 0, 0, 0.3));\n",
              "      fill: #FFFFFF;\n",
              "    }\n",
              "  </style>\n",
              "\n",
              "      <script>\n",
              "        const buttonEl =\n",
              "          document.querySelector('#df-105712e8-e777-4143-aaae-8c3dd37cb357 button.colab-df-convert');\n",
              "        buttonEl.style.display =\n",
              "          google.colab.kernel.accessAllowed ? 'block' : 'none';\n",
              "\n",
              "        async function convertToInteractive(key) {\n",
              "          const element = document.querySelector('#df-105712e8-e777-4143-aaae-8c3dd37cb357');\n",
              "          const dataTable =\n",
              "            await google.colab.kernel.invokeFunction('convertToInteractive',\n",
              "                                                     [key], {});\n",
              "          if (!dataTable) return;\n",
              "\n",
              "          const docLinkHtml = 'Like what you see? Visit the ' +\n",
              "            '<a target=\"_blank\" href=https://colab.research.google.com/notebooks/data_table.ipynb>data table notebook</a>'\n",
              "            + ' to learn more about interactive tables.';\n",
              "          element.innerHTML = '';\n",
              "          dataTable['output_type'] = 'display_data';\n",
              "          await google.colab.output.renderOutput(dataTable, element);\n",
              "          const docLink = document.createElement('div');\n",
              "          docLink.innerHTML = docLinkHtml;\n",
              "          element.appendChild(docLink);\n",
              "        }\n",
              "      </script>\n",
              "    </div>\n",
              "  </div>\n",
              "  "
            ]
          },
          "metadata": {},
          "execution_count": 250
        }
      ]
    },
    {
      "cell_type": "code",
      "source": [
        "X = df.drop(\"Global_Sales_Tranformed\", 1)       # feature matrix\n",
        "y = df['Global_Sales_Tranformed']               # target feature\n",
        "df.head()"
      ],
      "metadata": {
        "colab": {
          "base_uri": "https://localhost:8080/",
          "height": 331
        },
        "id": "oshvKeY0xJJb",
        "outputId": "b3107158-0a5d-478f-d214-7c7ede25cece"
      },
      "execution_count": null,
      "outputs": [
        {
          "output_type": "stream",
          "name": "stderr",
          "text": [
            "/usr/local/lib/python3.7/dist-packages/ipykernel_launcher.py:1: FutureWarning: In a future version of pandas all arguments of DataFrame.drop except for the argument 'labels' will be keyword-only\n",
            "  \"\"\"Entry point for launching an IPython kernel.\n"
          ]
        },
        {
          "output_type": "execute_result",
          "data": {
            "text/plain": [
              "   Year_of_Release  NA_Sales  EU_Sales  JP_Sales  Critic_Score  Critic_Count  \\\n",
              "0           2006.0     41.36     28.96      3.77          76.0          51.0   \n",
              "1           1985.0     29.08      3.58      6.81           NaN           NaN   \n",
              "2           2008.0     15.68     12.76      3.79          82.0          73.0   \n",
              "3           2009.0     15.61     10.93      3.28          80.0          73.0   \n",
              "4           1996.0     11.27      8.89     10.22           NaN           NaN   \n",
              "\n",
              "   User_Score  User_Count  Global_Sales  Name_code  ...  Rating_RP  Rating_T  \\\n",
              "0         8.0       322.0         82.53     9896.0  ...          0         0   \n",
              "1         NaN         NaN         40.24     8351.0  ...          0         0   \n",
              "2         8.3       709.0         35.52     4965.0  ...          0         0   \n",
              "3         8.0       192.0         32.77     9898.0  ...          0         0   \n",
              "4         NaN         NaN         31.37     6569.0  ...          0         0   \n",
              "\n",
              "   NA_Sales_Tranformed  EU_Sales_Tranformed  JP_Sales_Tranformed  \\\n",
              "0             1.000000             1.000000             0.368885   \n",
              "1             0.703095             0.123619             0.666341   \n",
              "2             0.379110             0.440608             0.370841   \n",
              "3             0.377418             0.377417             0.320939   \n",
              "4             0.272485             0.306975             1.000000   \n",
              "\n",
              "   Critic_Score_Tranformed  Critic_Count_Tranformed  User_Score_Tranformed  \\\n",
              "0                 0.741176                 0.436364               0.824742   \n",
              "1                      NaN                      NaN                    NaN   \n",
              "2                 0.811765                 0.636364               0.855670   \n",
              "3                 0.788235                 0.636364               0.824742   \n",
              "4                      NaN                      NaN                    NaN   \n",
              "\n",
              "   User_Count_Tranformed  Global_Sales_Tranformed  \n",
              "0               0.029828                 1.000000  \n",
              "1                    NaN                 0.487518  \n",
              "2               0.066129                 0.430320  \n",
              "3               0.017634                 0.396995  \n",
              "4                    NaN                 0.380029  \n",
              "\n",
              "[5 rows x 2198 columns]"
            ],
            "text/html": [
              "\n",
              "  <div id=\"df-79985374-6bdf-4f32-af11-ad6db8d92802\">\n",
              "    <div class=\"colab-df-container\">\n",
              "      <div>\n",
              "<style scoped>\n",
              "    .dataframe tbody tr th:only-of-type {\n",
              "        vertical-align: middle;\n",
              "    }\n",
              "\n",
              "    .dataframe tbody tr th {\n",
              "        vertical-align: top;\n",
              "    }\n",
              "\n",
              "    .dataframe thead th {\n",
              "        text-align: right;\n",
              "    }\n",
              "</style>\n",
              "<table border=\"1\" class=\"dataframe\">\n",
              "  <thead>\n",
              "    <tr style=\"text-align: right;\">\n",
              "      <th></th>\n",
              "      <th>Year_of_Release</th>\n",
              "      <th>NA_Sales</th>\n",
              "      <th>EU_Sales</th>\n",
              "      <th>JP_Sales</th>\n",
              "      <th>Critic_Score</th>\n",
              "      <th>Critic_Count</th>\n",
              "      <th>User_Score</th>\n",
              "      <th>User_Count</th>\n",
              "      <th>Global_Sales</th>\n",
              "      <th>Name_code</th>\n",
              "      <th>...</th>\n",
              "      <th>Rating_RP</th>\n",
              "      <th>Rating_T</th>\n",
              "      <th>NA_Sales_Tranformed</th>\n",
              "      <th>EU_Sales_Tranformed</th>\n",
              "      <th>JP_Sales_Tranformed</th>\n",
              "      <th>Critic_Score_Tranformed</th>\n",
              "      <th>Critic_Count_Tranformed</th>\n",
              "      <th>User_Score_Tranformed</th>\n",
              "      <th>User_Count_Tranformed</th>\n",
              "      <th>Global_Sales_Tranformed</th>\n",
              "    </tr>\n",
              "  </thead>\n",
              "  <tbody>\n",
              "    <tr>\n",
              "      <th>0</th>\n",
              "      <td>2006.0</td>\n",
              "      <td>41.36</td>\n",
              "      <td>28.96</td>\n",
              "      <td>3.77</td>\n",
              "      <td>76.0</td>\n",
              "      <td>51.0</td>\n",
              "      <td>8.0</td>\n",
              "      <td>322.0</td>\n",
              "      <td>82.53</td>\n",
              "      <td>9896.0</td>\n",
              "      <td>...</td>\n",
              "      <td>0</td>\n",
              "      <td>0</td>\n",
              "      <td>1.000000</td>\n",
              "      <td>1.000000</td>\n",
              "      <td>0.368885</td>\n",
              "      <td>0.741176</td>\n",
              "      <td>0.436364</td>\n",
              "      <td>0.824742</td>\n",
              "      <td>0.029828</td>\n",
              "      <td>1.000000</td>\n",
              "    </tr>\n",
              "    <tr>\n",
              "      <th>1</th>\n",
              "      <td>1985.0</td>\n",
              "      <td>29.08</td>\n",
              "      <td>3.58</td>\n",
              "      <td>6.81</td>\n",
              "      <td>NaN</td>\n",
              "      <td>NaN</td>\n",
              "      <td>NaN</td>\n",
              "      <td>NaN</td>\n",
              "      <td>40.24</td>\n",
              "      <td>8351.0</td>\n",
              "      <td>...</td>\n",
              "      <td>0</td>\n",
              "      <td>0</td>\n",
              "      <td>0.703095</td>\n",
              "      <td>0.123619</td>\n",
              "      <td>0.666341</td>\n",
              "      <td>NaN</td>\n",
              "      <td>NaN</td>\n",
              "      <td>NaN</td>\n",
              "      <td>NaN</td>\n",
              "      <td>0.487518</td>\n",
              "    </tr>\n",
              "    <tr>\n",
              "      <th>2</th>\n",
              "      <td>2008.0</td>\n",
              "      <td>15.68</td>\n",
              "      <td>12.76</td>\n",
              "      <td>3.79</td>\n",
              "      <td>82.0</td>\n",
              "      <td>73.0</td>\n",
              "      <td>8.3</td>\n",
              "      <td>709.0</td>\n",
              "      <td>35.52</td>\n",
              "      <td>4965.0</td>\n",
              "      <td>...</td>\n",
              "      <td>0</td>\n",
              "      <td>0</td>\n",
              "      <td>0.379110</td>\n",
              "      <td>0.440608</td>\n",
              "      <td>0.370841</td>\n",
              "      <td>0.811765</td>\n",
              "      <td>0.636364</td>\n",
              "      <td>0.855670</td>\n",
              "      <td>0.066129</td>\n",
              "      <td>0.430320</td>\n",
              "    </tr>\n",
              "    <tr>\n",
              "      <th>3</th>\n",
              "      <td>2009.0</td>\n",
              "      <td>15.61</td>\n",
              "      <td>10.93</td>\n",
              "      <td>3.28</td>\n",
              "      <td>80.0</td>\n",
              "      <td>73.0</td>\n",
              "      <td>8.0</td>\n",
              "      <td>192.0</td>\n",
              "      <td>32.77</td>\n",
              "      <td>9898.0</td>\n",
              "      <td>...</td>\n",
              "      <td>0</td>\n",
              "      <td>0</td>\n",
              "      <td>0.377418</td>\n",
              "      <td>0.377417</td>\n",
              "      <td>0.320939</td>\n",
              "      <td>0.788235</td>\n",
              "      <td>0.636364</td>\n",
              "      <td>0.824742</td>\n",
              "      <td>0.017634</td>\n",
              "      <td>0.396995</td>\n",
              "    </tr>\n",
              "    <tr>\n",
              "      <th>4</th>\n",
              "      <td>1996.0</td>\n",
              "      <td>11.27</td>\n",
              "      <td>8.89</td>\n",
              "      <td>10.22</td>\n",
              "      <td>NaN</td>\n",
              "      <td>NaN</td>\n",
              "      <td>NaN</td>\n",
              "      <td>NaN</td>\n",
              "      <td>31.37</td>\n",
              "      <td>6569.0</td>\n",
              "      <td>...</td>\n",
              "      <td>0</td>\n",
              "      <td>0</td>\n",
              "      <td>0.272485</td>\n",
              "      <td>0.306975</td>\n",
              "      <td>1.000000</td>\n",
              "      <td>NaN</td>\n",
              "      <td>NaN</td>\n",
              "      <td>NaN</td>\n",
              "      <td>NaN</td>\n",
              "      <td>0.380029</td>\n",
              "    </tr>\n",
              "  </tbody>\n",
              "</table>\n",
              "<p>5 rows × 2198 columns</p>\n",
              "</div>\n",
              "      <button class=\"colab-df-convert\" onclick=\"convertToInteractive('df-79985374-6bdf-4f32-af11-ad6db8d92802')\"\n",
              "              title=\"Convert this dataframe to an interactive table.\"\n",
              "              style=\"display:none;\">\n",
              "        \n",
              "  <svg xmlns=\"http://www.w3.org/2000/svg\" height=\"24px\"viewBox=\"0 0 24 24\"\n",
              "       width=\"24px\">\n",
              "    <path d=\"M0 0h24v24H0V0z\" fill=\"none\"/>\n",
              "    <path d=\"M18.56 5.44l.94 2.06.94-2.06 2.06-.94-2.06-.94-.94-2.06-.94 2.06-2.06.94zm-11 1L8.5 8.5l.94-2.06 2.06-.94-2.06-.94L8.5 2.5l-.94 2.06-2.06.94zm10 10l.94 2.06.94-2.06 2.06-.94-2.06-.94-.94-2.06-.94 2.06-2.06.94z\"/><path d=\"M17.41 7.96l-1.37-1.37c-.4-.4-.92-.59-1.43-.59-.52 0-1.04.2-1.43.59L10.3 9.45l-7.72 7.72c-.78.78-.78 2.05 0 2.83L4 21.41c.39.39.9.59 1.41.59.51 0 1.02-.2 1.41-.59l7.78-7.78 2.81-2.81c.8-.78.8-2.07 0-2.86zM5.41 20L4 18.59l7.72-7.72 1.47 1.35L5.41 20z\"/>\n",
              "  </svg>\n",
              "      </button>\n",
              "      \n",
              "  <style>\n",
              "    .colab-df-container {\n",
              "      display:flex;\n",
              "      flex-wrap:wrap;\n",
              "      gap: 12px;\n",
              "    }\n",
              "\n",
              "    .colab-df-convert {\n",
              "      background-color: #E8F0FE;\n",
              "      border: none;\n",
              "      border-radius: 50%;\n",
              "      cursor: pointer;\n",
              "      display: none;\n",
              "      fill: #1967D2;\n",
              "      height: 32px;\n",
              "      padding: 0 0 0 0;\n",
              "      width: 32px;\n",
              "    }\n",
              "\n",
              "    .colab-df-convert:hover {\n",
              "      background-color: #E2EBFA;\n",
              "      box-shadow: 0px 1px 2px rgba(60, 64, 67, 0.3), 0px 1px 3px 1px rgba(60, 64, 67, 0.15);\n",
              "      fill: #174EA6;\n",
              "    }\n",
              "\n",
              "    [theme=dark] .colab-df-convert {\n",
              "      background-color: #3B4455;\n",
              "      fill: #D2E3FC;\n",
              "    }\n",
              "\n",
              "    [theme=dark] .colab-df-convert:hover {\n",
              "      background-color: #434B5C;\n",
              "      box-shadow: 0px 1px 3px 1px rgba(0, 0, 0, 0.15);\n",
              "      filter: drop-shadow(0px 1px 2px rgba(0, 0, 0, 0.3));\n",
              "      fill: #FFFFFF;\n",
              "    }\n",
              "  </style>\n",
              "\n",
              "      <script>\n",
              "        const buttonEl =\n",
              "          document.querySelector('#df-79985374-6bdf-4f32-af11-ad6db8d92802 button.colab-df-convert');\n",
              "        buttonEl.style.display =\n",
              "          google.colab.kernel.accessAllowed ? 'block' : 'none';\n",
              "\n",
              "        async function convertToInteractive(key) {\n",
              "          const element = document.querySelector('#df-79985374-6bdf-4f32-af11-ad6db8d92802');\n",
              "          const dataTable =\n",
              "            await google.colab.kernel.invokeFunction('convertToInteractive',\n",
              "                                                     [key], {});\n",
              "          if (!dataTable) return;\n",
              "\n",
              "          const docLinkHtml = 'Like what you see? Visit the ' +\n",
              "            '<a target=\"_blank\" href=https://colab.research.google.com/notebooks/data_table.ipynb>data table notebook</a>'\n",
              "            + ' to learn more about interactive tables.';\n",
              "          element.innerHTML = '';\n",
              "          dataTable['output_type'] = 'display_data';\n",
              "          await google.colab.output.renderOutput(dataTable, element);\n",
              "          const docLink = document.createElement('div');\n",
              "          docLink.innerHTML = docLinkHtml;\n",
              "          element.appendChild(docLink);\n",
              "        }\n",
              "      </script>\n",
              "    </div>\n",
              "  </div>\n",
              "  "
            ]
          },
          "metadata": {},
          "execution_count": 251
        }
      ]
    },
    {
      "cell_type": "code",
      "source": [
        "X"
      ],
      "metadata": {
        "colab": {
          "base_uri": "https://localhost:8080/",
          "height": 483
        },
        "id": "qJrJzGk2ErzI",
        "outputId": "51a07510-7ef3-412a-b1b8-e899d45a96af"
      },
      "execution_count": null,
      "outputs": [
        {
          "output_type": "execute_result",
          "data": {
            "text/plain": [
              "       Year_of_Release  NA_Sales  EU_Sales  JP_Sales  Critic_Score  \\\n",
              "0               2006.0     41.36     28.96      3.77          76.0   \n",
              "1               1985.0     29.08      3.58      6.81           NaN   \n",
              "2               2008.0     15.68     12.76      3.79          82.0   \n",
              "3               2009.0     15.61     10.93      3.28          80.0   \n",
              "4               1996.0     11.27      8.89     10.22           NaN   \n",
              "...                ...       ...       ...       ...           ...   \n",
              "14571           2016.0      0.00      0.00      0.01           NaN   \n",
              "14572           2006.0      0.00      0.01      0.00           NaN   \n",
              "14573           2016.0      0.00      0.00      0.01           NaN   \n",
              "14574           2003.0      0.01      0.00      0.00           NaN   \n",
              "14575           2016.0      0.00      0.00      0.01           NaN   \n",
              "\n",
              "       Critic_Count  User_Score  User_Count  Global_Sales  Name_code  ...  \\\n",
              "0              51.0         8.0       322.0         82.53     9896.0  ...   \n",
              "1               NaN         NaN         NaN         40.24     8351.0  ...   \n",
              "2              73.0         8.3       709.0         35.52     4965.0  ...   \n",
              "3              73.0         8.0       192.0         32.77     9898.0  ...   \n",
              "4               NaN         NaN         NaN         31.37     6569.0  ...   \n",
              "...             ...         ...         ...           ...        ...  ...   \n",
              "14571           NaN         NaN         NaN          0.01     7426.0  ...   \n",
              "14572           NaN         NaN         NaN          0.01     4568.0  ...   \n",
              "14573           NaN         NaN         NaN          0.01     3443.0  ...   \n",
              "14574           NaN         NaN         NaN          0.01     8026.0  ...   \n",
              "14575           NaN         NaN         NaN          0.01     9933.0  ...   \n",
              "\n",
              "       Rating_M  Rating_RP  Rating_T  NA_Sales_Tranformed  \\\n",
              "0             0          0         0             1.000000   \n",
              "1             0          0         0             0.703095   \n",
              "2             0          0         0             0.379110   \n",
              "3             0          0         0             0.377418   \n",
              "4             0          0         0             0.272485   \n",
              "...         ...        ...       ...                  ...   \n",
              "14571         0          0         0             0.000000   \n",
              "14572         0          0         0             0.000000   \n",
              "14573         0          0         0             0.000000   \n",
              "14574         0          0         0             0.000242   \n",
              "14575         0          0         0             0.000000   \n",
              "\n",
              "       EU_Sales_Tranformed  JP_Sales_Tranformed  Critic_Score_Tranformed  \\\n",
              "0                 1.000000             0.368885                 0.741176   \n",
              "1                 0.123619             0.666341                      NaN   \n",
              "2                 0.440608             0.370841                 0.811765   \n",
              "3                 0.377417             0.320939                 0.788235   \n",
              "4                 0.306975             1.000000                      NaN   \n",
              "...                    ...                  ...                      ...   \n",
              "14571             0.000000             0.000978                      NaN   \n",
              "14572             0.000345             0.000000                      NaN   \n",
              "14573             0.000000             0.000978                      NaN   \n",
              "14574             0.000000             0.000000                      NaN   \n",
              "14575             0.000000             0.000978                      NaN   \n",
              "\n",
              "       Critic_Count_Tranformed  User_Score_Tranformed  User_Count_Tranformed  \n",
              "0                     0.436364               0.824742               0.029828  \n",
              "1                          NaN                    NaN                    NaN  \n",
              "2                     0.636364               0.855670               0.066129  \n",
              "3                     0.636364               0.824742               0.017634  \n",
              "4                          NaN                    NaN                    NaN  \n",
              "...                        ...                    ...                    ...  \n",
              "14571                      NaN                    NaN                    NaN  \n",
              "14572                      NaN                    NaN                    NaN  \n",
              "14573                      NaN                    NaN                    NaN  \n",
              "14574                      NaN                    NaN                    NaN  \n",
              "14575                      NaN                    NaN                    NaN  \n",
              "\n",
              "[14576 rows x 2197 columns]"
            ],
            "text/html": [
              "\n",
              "  <div id=\"df-f898796d-19b0-4980-9969-c2b897c508c9\">\n",
              "    <div class=\"colab-df-container\">\n",
              "      <div>\n",
              "<style scoped>\n",
              "    .dataframe tbody tr th:only-of-type {\n",
              "        vertical-align: middle;\n",
              "    }\n",
              "\n",
              "    .dataframe tbody tr th {\n",
              "        vertical-align: top;\n",
              "    }\n",
              "\n",
              "    .dataframe thead th {\n",
              "        text-align: right;\n",
              "    }\n",
              "</style>\n",
              "<table border=\"1\" class=\"dataframe\">\n",
              "  <thead>\n",
              "    <tr style=\"text-align: right;\">\n",
              "      <th></th>\n",
              "      <th>Year_of_Release</th>\n",
              "      <th>NA_Sales</th>\n",
              "      <th>EU_Sales</th>\n",
              "      <th>JP_Sales</th>\n",
              "      <th>Critic_Score</th>\n",
              "      <th>Critic_Count</th>\n",
              "      <th>User_Score</th>\n",
              "      <th>User_Count</th>\n",
              "      <th>Global_Sales</th>\n",
              "      <th>Name_code</th>\n",
              "      <th>...</th>\n",
              "      <th>Rating_M</th>\n",
              "      <th>Rating_RP</th>\n",
              "      <th>Rating_T</th>\n",
              "      <th>NA_Sales_Tranformed</th>\n",
              "      <th>EU_Sales_Tranformed</th>\n",
              "      <th>JP_Sales_Tranformed</th>\n",
              "      <th>Critic_Score_Tranformed</th>\n",
              "      <th>Critic_Count_Tranformed</th>\n",
              "      <th>User_Score_Tranformed</th>\n",
              "      <th>User_Count_Tranformed</th>\n",
              "    </tr>\n",
              "  </thead>\n",
              "  <tbody>\n",
              "    <tr>\n",
              "      <th>0</th>\n",
              "      <td>2006.0</td>\n",
              "      <td>41.36</td>\n",
              "      <td>28.96</td>\n",
              "      <td>3.77</td>\n",
              "      <td>76.0</td>\n",
              "      <td>51.0</td>\n",
              "      <td>8.0</td>\n",
              "      <td>322.0</td>\n",
              "      <td>82.53</td>\n",
              "      <td>9896.0</td>\n",
              "      <td>...</td>\n",
              "      <td>0</td>\n",
              "      <td>0</td>\n",
              "      <td>0</td>\n",
              "      <td>1.000000</td>\n",
              "      <td>1.000000</td>\n",
              "      <td>0.368885</td>\n",
              "      <td>0.741176</td>\n",
              "      <td>0.436364</td>\n",
              "      <td>0.824742</td>\n",
              "      <td>0.029828</td>\n",
              "    </tr>\n",
              "    <tr>\n",
              "      <th>1</th>\n",
              "      <td>1985.0</td>\n",
              "      <td>29.08</td>\n",
              "      <td>3.58</td>\n",
              "      <td>6.81</td>\n",
              "      <td>NaN</td>\n",
              "      <td>NaN</td>\n",
              "      <td>NaN</td>\n",
              "      <td>NaN</td>\n",
              "      <td>40.24</td>\n",
              "      <td>8351.0</td>\n",
              "      <td>...</td>\n",
              "      <td>0</td>\n",
              "      <td>0</td>\n",
              "      <td>0</td>\n",
              "      <td>0.703095</td>\n",
              "      <td>0.123619</td>\n",
              "      <td>0.666341</td>\n",
              "      <td>NaN</td>\n",
              "      <td>NaN</td>\n",
              "      <td>NaN</td>\n",
              "      <td>NaN</td>\n",
              "    </tr>\n",
              "    <tr>\n",
              "      <th>2</th>\n",
              "      <td>2008.0</td>\n",
              "      <td>15.68</td>\n",
              "      <td>12.76</td>\n",
              "      <td>3.79</td>\n",
              "      <td>82.0</td>\n",
              "      <td>73.0</td>\n",
              "      <td>8.3</td>\n",
              "      <td>709.0</td>\n",
              "      <td>35.52</td>\n",
              "      <td>4965.0</td>\n",
              "      <td>...</td>\n",
              "      <td>0</td>\n",
              "      <td>0</td>\n",
              "      <td>0</td>\n",
              "      <td>0.379110</td>\n",
              "      <td>0.440608</td>\n",
              "      <td>0.370841</td>\n",
              "      <td>0.811765</td>\n",
              "      <td>0.636364</td>\n",
              "      <td>0.855670</td>\n",
              "      <td>0.066129</td>\n",
              "    </tr>\n",
              "    <tr>\n",
              "      <th>3</th>\n",
              "      <td>2009.0</td>\n",
              "      <td>15.61</td>\n",
              "      <td>10.93</td>\n",
              "      <td>3.28</td>\n",
              "      <td>80.0</td>\n",
              "      <td>73.0</td>\n",
              "      <td>8.0</td>\n",
              "      <td>192.0</td>\n",
              "      <td>32.77</td>\n",
              "      <td>9898.0</td>\n",
              "      <td>...</td>\n",
              "      <td>0</td>\n",
              "      <td>0</td>\n",
              "      <td>0</td>\n",
              "      <td>0.377418</td>\n",
              "      <td>0.377417</td>\n",
              "      <td>0.320939</td>\n",
              "      <td>0.788235</td>\n",
              "      <td>0.636364</td>\n",
              "      <td>0.824742</td>\n",
              "      <td>0.017634</td>\n",
              "    </tr>\n",
              "    <tr>\n",
              "      <th>4</th>\n",
              "      <td>1996.0</td>\n",
              "      <td>11.27</td>\n",
              "      <td>8.89</td>\n",
              "      <td>10.22</td>\n",
              "      <td>NaN</td>\n",
              "      <td>NaN</td>\n",
              "      <td>NaN</td>\n",
              "      <td>NaN</td>\n",
              "      <td>31.37</td>\n",
              "      <td>6569.0</td>\n",
              "      <td>...</td>\n",
              "      <td>0</td>\n",
              "      <td>0</td>\n",
              "      <td>0</td>\n",
              "      <td>0.272485</td>\n",
              "      <td>0.306975</td>\n",
              "      <td>1.000000</td>\n",
              "      <td>NaN</td>\n",
              "      <td>NaN</td>\n",
              "      <td>NaN</td>\n",
              "      <td>NaN</td>\n",
              "    </tr>\n",
              "    <tr>\n",
              "      <th>...</th>\n",
              "      <td>...</td>\n",
              "      <td>...</td>\n",
              "      <td>...</td>\n",
              "      <td>...</td>\n",
              "      <td>...</td>\n",
              "      <td>...</td>\n",
              "      <td>...</td>\n",
              "      <td>...</td>\n",
              "      <td>...</td>\n",
              "      <td>...</td>\n",
              "      <td>...</td>\n",
              "      <td>...</td>\n",
              "      <td>...</td>\n",
              "      <td>...</td>\n",
              "      <td>...</td>\n",
              "      <td>...</td>\n",
              "      <td>...</td>\n",
              "      <td>...</td>\n",
              "      <td>...</td>\n",
              "      <td>...</td>\n",
              "      <td>...</td>\n",
              "    </tr>\n",
              "    <tr>\n",
              "      <th>14571</th>\n",
              "      <td>2016.0</td>\n",
              "      <td>0.00</td>\n",
              "      <td>0.00</td>\n",
              "      <td>0.01</td>\n",
              "      <td>NaN</td>\n",
              "      <td>NaN</td>\n",
              "      <td>NaN</td>\n",
              "      <td>NaN</td>\n",
              "      <td>0.01</td>\n",
              "      <td>7426.0</td>\n",
              "      <td>...</td>\n",
              "      <td>0</td>\n",
              "      <td>0</td>\n",
              "      <td>0</td>\n",
              "      <td>0.000000</td>\n",
              "      <td>0.000000</td>\n",
              "      <td>0.000978</td>\n",
              "      <td>NaN</td>\n",
              "      <td>NaN</td>\n",
              "      <td>NaN</td>\n",
              "      <td>NaN</td>\n",
              "    </tr>\n",
              "    <tr>\n",
              "      <th>14572</th>\n",
              "      <td>2006.0</td>\n",
              "      <td>0.00</td>\n",
              "      <td>0.01</td>\n",
              "      <td>0.00</td>\n",
              "      <td>NaN</td>\n",
              "      <td>NaN</td>\n",
              "      <td>NaN</td>\n",
              "      <td>NaN</td>\n",
              "      <td>0.01</td>\n",
              "      <td>4568.0</td>\n",
              "      <td>...</td>\n",
              "      <td>0</td>\n",
              "      <td>0</td>\n",
              "      <td>0</td>\n",
              "      <td>0.000000</td>\n",
              "      <td>0.000345</td>\n",
              "      <td>0.000000</td>\n",
              "      <td>NaN</td>\n",
              "      <td>NaN</td>\n",
              "      <td>NaN</td>\n",
              "      <td>NaN</td>\n",
              "    </tr>\n",
              "    <tr>\n",
              "      <th>14573</th>\n",
              "      <td>2016.0</td>\n",
              "      <td>0.00</td>\n",
              "      <td>0.00</td>\n",
              "      <td>0.01</td>\n",
              "      <td>NaN</td>\n",
              "      <td>NaN</td>\n",
              "      <td>NaN</td>\n",
              "      <td>NaN</td>\n",
              "      <td>0.01</td>\n",
              "      <td>3443.0</td>\n",
              "      <td>...</td>\n",
              "      <td>0</td>\n",
              "      <td>0</td>\n",
              "      <td>0</td>\n",
              "      <td>0.000000</td>\n",
              "      <td>0.000000</td>\n",
              "      <td>0.000978</td>\n",
              "      <td>NaN</td>\n",
              "      <td>NaN</td>\n",
              "      <td>NaN</td>\n",
              "      <td>NaN</td>\n",
              "    </tr>\n",
              "    <tr>\n",
              "      <th>14574</th>\n",
              "      <td>2003.0</td>\n",
              "      <td>0.01</td>\n",
              "      <td>0.00</td>\n",
              "      <td>0.00</td>\n",
              "      <td>NaN</td>\n",
              "      <td>NaN</td>\n",
              "      <td>NaN</td>\n",
              "      <td>NaN</td>\n",
              "      <td>0.01</td>\n",
              "      <td>8026.0</td>\n",
              "      <td>...</td>\n",
              "      <td>0</td>\n",
              "      <td>0</td>\n",
              "      <td>0</td>\n",
              "      <td>0.000242</td>\n",
              "      <td>0.000000</td>\n",
              "      <td>0.000000</td>\n",
              "      <td>NaN</td>\n",
              "      <td>NaN</td>\n",
              "      <td>NaN</td>\n",
              "      <td>NaN</td>\n",
              "    </tr>\n",
              "    <tr>\n",
              "      <th>14575</th>\n",
              "      <td>2016.0</td>\n",
              "      <td>0.00</td>\n",
              "      <td>0.00</td>\n",
              "      <td>0.01</td>\n",
              "      <td>NaN</td>\n",
              "      <td>NaN</td>\n",
              "      <td>NaN</td>\n",
              "      <td>NaN</td>\n",
              "      <td>0.01</td>\n",
              "      <td>9933.0</td>\n",
              "      <td>...</td>\n",
              "      <td>0</td>\n",
              "      <td>0</td>\n",
              "      <td>0</td>\n",
              "      <td>0.000000</td>\n",
              "      <td>0.000000</td>\n",
              "      <td>0.000978</td>\n",
              "      <td>NaN</td>\n",
              "      <td>NaN</td>\n",
              "      <td>NaN</td>\n",
              "      <td>NaN</td>\n",
              "    </tr>\n",
              "  </tbody>\n",
              "</table>\n",
              "<p>14576 rows × 2197 columns</p>\n",
              "</div>\n",
              "      <button class=\"colab-df-convert\" onclick=\"convertToInteractive('df-f898796d-19b0-4980-9969-c2b897c508c9')\"\n",
              "              title=\"Convert this dataframe to an interactive table.\"\n",
              "              style=\"display:none;\">\n",
              "        \n",
              "  <svg xmlns=\"http://www.w3.org/2000/svg\" height=\"24px\"viewBox=\"0 0 24 24\"\n",
              "       width=\"24px\">\n",
              "    <path d=\"M0 0h24v24H0V0z\" fill=\"none\"/>\n",
              "    <path d=\"M18.56 5.44l.94 2.06.94-2.06 2.06-.94-2.06-.94-.94-2.06-.94 2.06-2.06.94zm-11 1L8.5 8.5l.94-2.06 2.06-.94-2.06-.94L8.5 2.5l-.94 2.06-2.06.94zm10 10l.94 2.06.94-2.06 2.06-.94-2.06-.94-.94-2.06-.94 2.06-2.06.94z\"/><path d=\"M17.41 7.96l-1.37-1.37c-.4-.4-.92-.59-1.43-.59-.52 0-1.04.2-1.43.59L10.3 9.45l-7.72 7.72c-.78.78-.78 2.05 0 2.83L4 21.41c.39.39.9.59 1.41.59.51 0 1.02-.2 1.41-.59l7.78-7.78 2.81-2.81c.8-.78.8-2.07 0-2.86zM5.41 20L4 18.59l7.72-7.72 1.47 1.35L5.41 20z\"/>\n",
              "  </svg>\n",
              "      </button>\n",
              "      \n",
              "  <style>\n",
              "    .colab-df-container {\n",
              "      display:flex;\n",
              "      flex-wrap:wrap;\n",
              "      gap: 12px;\n",
              "    }\n",
              "\n",
              "    .colab-df-convert {\n",
              "      background-color: #E8F0FE;\n",
              "      border: none;\n",
              "      border-radius: 50%;\n",
              "      cursor: pointer;\n",
              "      display: none;\n",
              "      fill: #1967D2;\n",
              "      height: 32px;\n",
              "      padding: 0 0 0 0;\n",
              "      width: 32px;\n",
              "    }\n",
              "\n",
              "    .colab-df-convert:hover {\n",
              "      background-color: #E2EBFA;\n",
              "      box-shadow: 0px 1px 2px rgba(60, 64, 67, 0.3), 0px 1px 3px 1px rgba(60, 64, 67, 0.15);\n",
              "      fill: #174EA6;\n",
              "    }\n",
              "\n",
              "    [theme=dark] .colab-df-convert {\n",
              "      background-color: #3B4455;\n",
              "      fill: #D2E3FC;\n",
              "    }\n",
              "\n",
              "    [theme=dark] .colab-df-convert:hover {\n",
              "      background-color: #434B5C;\n",
              "      box-shadow: 0px 1px 3px 1px rgba(0, 0, 0, 0.15);\n",
              "      filter: drop-shadow(0px 1px 2px rgba(0, 0, 0, 0.3));\n",
              "      fill: #FFFFFF;\n",
              "    }\n",
              "  </style>\n",
              "\n",
              "      <script>\n",
              "        const buttonEl =\n",
              "          document.querySelector('#df-f898796d-19b0-4980-9969-c2b897c508c9 button.colab-df-convert');\n",
              "        buttonEl.style.display =\n",
              "          google.colab.kernel.accessAllowed ? 'block' : 'none';\n",
              "\n",
              "        async function convertToInteractive(key) {\n",
              "          const element = document.querySelector('#df-f898796d-19b0-4980-9969-c2b897c508c9');\n",
              "          const dataTable =\n",
              "            await google.colab.kernel.invokeFunction('convertToInteractive',\n",
              "                                                     [key], {});\n",
              "          if (!dataTable) return;\n",
              "\n",
              "          const docLinkHtml = 'Like what you see? Visit the ' +\n",
              "            '<a target=\"_blank\" href=https://colab.research.google.com/notebooks/data_table.ipynb>data table notebook</a>'\n",
              "            + ' to learn more about interactive tables.';\n",
              "          element.innerHTML = '';\n",
              "          dataTable['output_type'] = 'display_data';\n",
              "          await google.colab.output.renderOutput(dataTable, element);\n",
              "          const docLink = document.createElement('div');\n",
              "          docLink.innerHTML = docLinkHtml;\n",
              "          element.appendChild(docLink);\n",
              "        }\n",
              "      </script>\n",
              "    </div>\n",
              "  </div>\n",
              "  "
            ]
          },
          "metadata": {},
          "execution_count": 252
        }
      ]
    },
    {
      "cell_type": "code",
      "source": [
        "y"
      ],
      "metadata": {
        "colab": {
          "base_uri": "https://localhost:8080/"
        },
        "id": "B6pWfywTEv0q",
        "outputId": "9fe0d4a7-500c-4101-c5cc-6389570f0aa4"
      },
      "execution_count": null,
      "outputs": [
        {
          "output_type": "execute_result",
          "data": {
            "text/plain": [
              "0        1.000000\n",
              "1        0.487518\n",
              "2        0.430320\n",
              "3        0.396995\n",
              "4        0.380029\n",
              "           ...   \n",
              "14571    0.000000\n",
              "14572    0.000000\n",
              "14573    0.000000\n",
              "14574    0.000000\n",
              "14575    0.000000\n",
              "Name: Global_Sales_Tranformed, Length: 14576, dtype: float64"
            ]
          },
          "metadata": {},
          "execution_count": 253
        }
      ]
    },
    {
      "cell_type": "code",
      "source": [
        "import pandas as pd\n",
        "df['World Sales'] = df.Global_Sales_Tranformed\n",
        "X = df.drop('World Sales', 1)       # feature matrix\n",
        "y = df['World Sales']               # target feature\n",
        "df.head()"
      ],
      "metadata": {
        "colab": {
          "base_uri": "https://localhost:8080/",
          "height": 348
        },
        "id": "LRs4iROZE5rl",
        "outputId": "749930c7-ce00-423d-b007-e942716d06aa"
      },
      "execution_count": null,
      "outputs": [
        {
          "output_type": "stream",
          "name": "stderr",
          "text": [
            "/usr/local/lib/python3.7/dist-packages/ipykernel_launcher.py:3: FutureWarning: In a future version of pandas all arguments of DataFrame.drop except for the argument 'labels' will be keyword-only\n",
            "  This is separate from the ipykernel package so we can avoid doing imports until\n"
          ]
        },
        {
          "output_type": "execute_result",
          "data": {
            "text/plain": [
              "   Year_of_Release  NA_Sales  EU_Sales  JP_Sales  Critic_Score  Critic_Count  \\\n",
              "0           2006.0     41.36     28.96      3.77          76.0          51.0   \n",
              "1           1985.0     29.08      3.58      6.81           NaN           NaN   \n",
              "2           2008.0     15.68     12.76      3.79          82.0          73.0   \n",
              "3           2009.0     15.61     10.93      3.28          80.0          73.0   \n",
              "4           1996.0     11.27      8.89     10.22           NaN           NaN   \n",
              "\n",
              "   User_Score  User_Count  Global_Sales  Name_code  ...  Rating_T  \\\n",
              "0         8.0       322.0         82.53     9896.0  ...         0   \n",
              "1         NaN         NaN         40.24     8351.0  ...         0   \n",
              "2         8.3       709.0         35.52     4965.0  ...         0   \n",
              "3         8.0       192.0         32.77     9898.0  ...         0   \n",
              "4         NaN         NaN         31.37     6569.0  ...         0   \n",
              "\n",
              "   NA_Sales_Tranformed  EU_Sales_Tranformed  JP_Sales_Tranformed  \\\n",
              "0             1.000000             1.000000             0.368885   \n",
              "1             0.703095             0.123619             0.666341   \n",
              "2             0.379110             0.440608             0.370841   \n",
              "3             0.377418             0.377417             0.320939   \n",
              "4             0.272485             0.306975             1.000000   \n",
              "\n",
              "   Critic_Score_Tranformed  Critic_Count_Tranformed  User_Score_Tranformed  \\\n",
              "0                 0.741176                 0.436364               0.824742   \n",
              "1                      NaN                      NaN                    NaN   \n",
              "2                 0.811765                 0.636364               0.855670   \n",
              "3                 0.788235                 0.636364               0.824742   \n",
              "4                      NaN                      NaN                    NaN   \n",
              "\n",
              "   User_Count_Tranformed  Global_Sales_Tranformed  World Sales  \n",
              "0               0.029828                 1.000000     1.000000  \n",
              "1                    NaN                 0.487518     0.487518  \n",
              "2               0.066129                 0.430320     0.430320  \n",
              "3               0.017634                 0.396995     0.396995  \n",
              "4                    NaN                 0.380029     0.380029  \n",
              "\n",
              "[5 rows x 2199 columns]"
            ],
            "text/html": [
              "\n",
              "  <div id=\"df-bc7a75ef-15ad-4a63-ac02-abd67ef2081a\">\n",
              "    <div class=\"colab-df-container\">\n",
              "      <div>\n",
              "<style scoped>\n",
              "    .dataframe tbody tr th:only-of-type {\n",
              "        vertical-align: middle;\n",
              "    }\n",
              "\n",
              "    .dataframe tbody tr th {\n",
              "        vertical-align: top;\n",
              "    }\n",
              "\n",
              "    .dataframe thead th {\n",
              "        text-align: right;\n",
              "    }\n",
              "</style>\n",
              "<table border=\"1\" class=\"dataframe\">\n",
              "  <thead>\n",
              "    <tr style=\"text-align: right;\">\n",
              "      <th></th>\n",
              "      <th>Year_of_Release</th>\n",
              "      <th>NA_Sales</th>\n",
              "      <th>EU_Sales</th>\n",
              "      <th>JP_Sales</th>\n",
              "      <th>Critic_Score</th>\n",
              "      <th>Critic_Count</th>\n",
              "      <th>User_Score</th>\n",
              "      <th>User_Count</th>\n",
              "      <th>Global_Sales</th>\n",
              "      <th>Name_code</th>\n",
              "      <th>...</th>\n",
              "      <th>Rating_T</th>\n",
              "      <th>NA_Sales_Tranformed</th>\n",
              "      <th>EU_Sales_Tranformed</th>\n",
              "      <th>JP_Sales_Tranformed</th>\n",
              "      <th>Critic_Score_Tranformed</th>\n",
              "      <th>Critic_Count_Tranformed</th>\n",
              "      <th>User_Score_Tranformed</th>\n",
              "      <th>User_Count_Tranformed</th>\n",
              "      <th>Global_Sales_Tranformed</th>\n",
              "      <th>World Sales</th>\n",
              "    </tr>\n",
              "  </thead>\n",
              "  <tbody>\n",
              "    <tr>\n",
              "      <th>0</th>\n",
              "      <td>2006.0</td>\n",
              "      <td>41.36</td>\n",
              "      <td>28.96</td>\n",
              "      <td>3.77</td>\n",
              "      <td>76.0</td>\n",
              "      <td>51.0</td>\n",
              "      <td>8.0</td>\n",
              "      <td>322.0</td>\n",
              "      <td>82.53</td>\n",
              "      <td>9896.0</td>\n",
              "      <td>...</td>\n",
              "      <td>0</td>\n",
              "      <td>1.000000</td>\n",
              "      <td>1.000000</td>\n",
              "      <td>0.368885</td>\n",
              "      <td>0.741176</td>\n",
              "      <td>0.436364</td>\n",
              "      <td>0.824742</td>\n",
              "      <td>0.029828</td>\n",
              "      <td>1.000000</td>\n",
              "      <td>1.000000</td>\n",
              "    </tr>\n",
              "    <tr>\n",
              "      <th>1</th>\n",
              "      <td>1985.0</td>\n",
              "      <td>29.08</td>\n",
              "      <td>3.58</td>\n",
              "      <td>6.81</td>\n",
              "      <td>NaN</td>\n",
              "      <td>NaN</td>\n",
              "      <td>NaN</td>\n",
              "      <td>NaN</td>\n",
              "      <td>40.24</td>\n",
              "      <td>8351.0</td>\n",
              "      <td>...</td>\n",
              "      <td>0</td>\n",
              "      <td>0.703095</td>\n",
              "      <td>0.123619</td>\n",
              "      <td>0.666341</td>\n",
              "      <td>NaN</td>\n",
              "      <td>NaN</td>\n",
              "      <td>NaN</td>\n",
              "      <td>NaN</td>\n",
              "      <td>0.487518</td>\n",
              "      <td>0.487518</td>\n",
              "    </tr>\n",
              "    <tr>\n",
              "      <th>2</th>\n",
              "      <td>2008.0</td>\n",
              "      <td>15.68</td>\n",
              "      <td>12.76</td>\n",
              "      <td>3.79</td>\n",
              "      <td>82.0</td>\n",
              "      <td>73.0</td>\n",
              "      <td>8.3</td>\n",
              "      <td>709.0</td>\n",
              "      <td>35.52</td>\n",
              "      <td>4965.0</td>\n",
              "      <td>...</td>\n",
              "      <td>0</td>\n",
              "      <td>0.379110</td>\n",
              "      <td>0.440608</td>\n",
              "      <td>0.370841</td>\n",
              "      <td>0.811765</td>\n",
              "      <td>0.636364</td>\n",
              "      <td>0.855670</td>\n",
              "      <td>0.066129</td>\n",
              "      <td>0.430320</td>\n",
              "      <td>0.430320</td>\n",
              "    </tr>\n",
              "    <tr>\n",
              "      <th>3</th>\n",
              "      <td>2009.0</td>\n",
              "      <td>15.61</td>\n",
              "      <td>10.93</td>\n",
              "      <td>3.28</td>\n",
              "      <td>80.0</td>\n",
              "      <td>73.0</td>\n",
              "      <td>8.0</td>\n",
              "      <td>192.0</td>\n",
              "      <td>32.77</td>\n",
              "      <td>9898.0</td>\n",
              "      <td>...</td>\n",
              "      <td>0</td>\n",
              "      <td>0.377418</td>\n",
              "      <td>0.377417</td>\n",
              "      <td>0.320939</td>\n",
              "      <td>0.788235</td>\n",
              "      <td>0.636364</td>\n",
              "      <td>0.824742</td>\n",
              "      <td>0.017634</td>\n",
              "      <td>0.396995</td>\n",
              "      <td>0.396995</td>\n",
              "    </tr>\n",
              "    <tr>\n",
              "      <th>4</th>\n",
              "      <td>1996.0</td>\n",
              "      <td>11.27</td>\n",
              "      <td>8.89</td>\n",
              "      <td>10.22</td>\n",
              "      <td>NaN</td>\n",
              "      <td>NaN</td>\n",
              "      <td>NaN</td>\n",
              "      <td>NaN</td>\n",
              "      <td>31.37</td>\n",
              "      <td>6569.0</td>\n",
              "      <td>...</td>\n",
              "      <td>0</td>\n",
              "      <td>0.272485</td>\n",
              "      <td>0.306975</td>\n",
              "      <td>1.000000</td>\n",
              "      <td>NaN</td>\n",
              "      <td>NaN</td>\n",
              "      <td>NaN</td>\n",
              "      <td>NaN</td>\n",
              "      <td>0.380029</td>\n",
              "      <td>0.380029</td>\n",
              "    </tr>\n",
              "  </tbody>\n",
              "</table>\n",
              "<p>5 rows × 2199 columns</p>\n",
              "</div>\n",
              "      <button class=\"colab-df-convert\" onclick=\"convertToInteractive('df-bc7a75ef-15ad-4a63-ac02-abd67ef2081a')\"\n",
              "              title=\"Convert this dataframe to an interactive table.\"\n",
              "              style=\"display:none;\">\n",
              "        \n",
              "  <svg xmlns=\"http://www.w3.org/2000/svg\" height=\"24px\"viewBox=\"0 0 24 24\"\n",
              "       width=\"24px\">\n",
              "    <path d=\"M0 0h24v24H0V0z\" fill=\"none\"/>\n",
              "    <path d=\"M18.56 5.44l.94 2.06.94-2.06 2.06-.94-2.06-.94-.94-2.06-.94 2.06-2.06.94zm-11 1L8.5 8.5l.94-2.06 2.06-.94-2.06-.94L8.5 2.5l-.94 2.06-2.06.94zm10 10l.94 2.06.94-2.06 2.06-.94-2.06-.94-.94-2.06-.94 2.06-2.06.94z\"/><path d=\"M17.41 7.96l-1.37-1.37c-.4-.4-.92-.59-1.43-.59-.52 0-1.04.2-1.43.59L10.3 9.45l-7.72 7.72c-.78.78-.78 2.05 0 2.83L4 21.41c.39.39.9.59 1.41.59.51 0 1.02-.2 1.41-.59l7.78-7.78 2.81-2.81c.8-.78.8-2.07 0-2.86zM5.41 20L4 18.59l7.72-7.72 1.47 1.35L5.41 20z\"/>\n",
              "  </svg>\n",
              "      </button>\n",
              "      \n",
              "  <style>\n",
              "    .colab-df-container {\n",
              "      display:flex;\n",
              "      flex-wrap:wrap;\n",
              "      gap: 12px;\n",
              "    }\n",
              "\n",
              "    .colab-df-convert {\n",
              "      background-color: #E8F0FE;\n",
              "      border: none;\n",
              "      border-radius: 50%;\n",
              "      cursor: pointer;\n",
              "      display: none;\n",
              "      fill: #1967D2;\n",
              "      height: 32px;\n",
              "      padding: 0 0 0 0;\n",
              "      width: 32px;\n",
              "    }\n",
              "\n",
              "    .colab-df-convert:hover {\n",
              "      background-color: #E2EBFA;\n",
              "      box-shadow: 0px 1px 2px rgba(60, 64, 67, 0.3), 0px 1px 3px 1px rgba(60, 64, 67, 0.15);\n",
              "      fill: #174EA6;\n",
              "    }\n",
              "\n",
              "    [theme=dark] .colab-df-convert {\n",
              "      background-color: #3B4455;\n",
              "      fill: #D2E3FC;\n",
              "    }\n",
              "\n",
              "    [theme=dark] .colab-df-convert:hover {\n",
              "      background-color: #434B5C;\n",
              "      box-shadow: 0px 1px 3px 1px rgba(0, 0, 0, 0.15);\n",
              "      filter: drop-shadow(0px 1px 2px rgba(0, 0, 0, 0.3));\n",
              "      fill: #FFFFFF;\n",
              "    }\n",
              "  </style>\n",
              "\n",
              "      <script>\n",
              "        const buttonEl =\n",
              "          document.querySelector('#df-bc7a75ef-15ad-4a63-ac02-abd67ef2081a button.colab-df-convert');\n",
              "        buttonEl.style.display =\n",
              "          google.colab.kernel.accessAllowed ? 'block' : 'none';\n",
              "\n",
              "        async function convertToInteractive(key) {\n",
              "          const element = document.querySelector('#df-bc7a75ef-15ad-4a63-ac02-abd67ef2081a');\n",
              "          const dataTable =\n",
              "            await google.colab.kernel.invokeFunction('convertToInteractive',\n",
              "                                                     [key], {});\n",
              "          if (!dataTable) return;\n",
              "\n",
              "          const docLinkHtml = 'Like what you see? Visit the ' +\n",
              "            '<a target=\"_blank\" href=https://colab.research.google.com/notebooks/data_table.ipynb>data table notebook</a>'\n",
              "            + ' to learn more about interactive tables.';\n",
              "          element.innerHTML = '';\n",
              "          dataTable['output_type'] = 'display_data';\n",
              "          await google.colab.output.renderOutput(dataTable, element);\n",
              "          const docLink = document.createElement('div');\n",
              "          docLink.innerHTML = docLinkHtml;\n",
              "          element.appendChild(docLink);\n",
              "        }\n",
              "      </script>\n",
              "    </div>\n",
              "  </div>\n",
              "  "
            ]
          },
          "metadata": {},
          "execution_count": 254
        }
      ]
    },
    {
      "cell_type": "code",
      "source": [
        "X"
      ],
      "metadata": {
        "colab": {
          "base_uri": "https://localhost:8080/",
          "height": 483
        },
        "id": "rSTYPPfnGVXM",
        "outputId": "375f4162-fbf7-4a4d-aae3-e7b57b2cbbe2"
      },
      "execution_count": null,
      "outputs": [
        {
          "output_type": "execute_result",
          "data": {
            "text/plain": [
              "       Year_of_Release  NA_Sales  EU_Sales  JP_Sales  Critic_Score  \\\n",
              "0               2006.0     41.36     28.96      3.77          76.0   \n",
              "1               1985.0     29.08      3.58      6.81           NaN   \n",
              "2               2008.0     15.68     12.76      3.79          82.0   \n",
              "3               2009.0     15.61     10.93      3.28          80.0   \n",
              "4               1996.0     11.27      8.89     10.22           NaN   \n",
              "...                ...       ...       ...       ...           ...   \n",
              "14571           2016.0      0.00      0.00      0.01           NaN   \n",
              "14572           2006.0      0.00      0.01      0.00           NaN   \n",
              "14573           2016.0      0.00      0.00      0.01           NaN   \n",
              "14574           2003.0      0.01      0.00      0.00           NaN   \n",
              "14575           2016.0      0.00      0.00      0.01           NaN   \n",
              "\n",
              "       Critic_Count  User_Score  User_Count  Global_Sales  Name_code  ...  \\\n",
              "0              51.0         8.0       322.0         82.53     9896.0  ...   \n",
              "1               NaN         NaN         NaN         40.24     8351.0  ...   \n",
              "2              73.0         8.3       709.0         35.52     4965.0  ...   \n",
              "3              73.0         8.0       192.0         32.77     9898.0  ...   \n",
              "4               NaN         NaN         NaN         31.37     6569.0  ...   \n",
              "...             ...         ...         ...           ...        ...  ...   \n",
              "14571           NaN         NaN         NaN          0.01     7426.0  ...   \n",
              "14572           NaN         NaN         NaN          0.01     4568.0  ...   \n",
              "14573           NaN         NaN         NaN          0.01     3443.0  ...   \n",
              "14574           NaN         NaN         NaN          0.01     8026.0  ...   \n",
              "14575           NaN         NaN         NaN          0.01     9933.0  ...   \n",
              "\n",
              "       Rating_RP  Rating_T  NA_Sales_Tranformed  EU_Sales_Tranformed  \\\n",
              "0              0         0             1.000000             1.000000   \n",
              "1              0         0             0.703095             0.123619   \n",
              "2              0         0             0.379110             0.440608   \n",
              "3              0         0             0.377418             0.377417   \n",
              "4              0         0             0.272485             0.306975   \n",
              "...          ...       ...                  ...                  ...   \n",
              "14571          0         0             0.000000             0.000000   \n",
              "14572          0         0             0.000000             0.000345   \n",
              "14573          0         0             0.000000             0.000000   \n",
              "14574          0         0             0.000242             0.000000   \n",
              "14575          0         0             0.000000             0.000000   \n",
              "\n",
              "       JP_Sales_Tranformed  Critic_Score_Tranformed  Critic_Count_Tranformed  \\\n",
              "0                 0.368885                 0.741176                 0.436364   \n",
              "1                 0.666341                      NaN                      NaN   \n",
              "2                 0.370841                 0.811765                 0.636364   \n",
              "3                 0.320939                 0.788235                 0.636364   \n",
              "4                 1.000000                      NaN                      NaN   \n",
              "...                    ...                      ...                      ...   \n",
              "14571             0.000978                      NaN                      NaN   \n",
              "14572             0.000000                      NaN                      NaN   \n",
              "14573             0.000978                      NaN                      NaN   \n",
              "14574             0.000000                      NaN                      NaN   \n",
              "14575             0.000978                      NaN                      NaN   \n",
              "\n",
              "       User_Score_Tranformed  User_Count_Tranformed  Global_Sales_Tranformed  \n",
              "0                   0.824742               0.029828                 1.000000  \n",
              "1                        NaN                    NaN                 0.487518  \n",
              "2                   0.855670               0.066129                 0.430320  \n",
              "3                   0.824742               0.017634                 0.396995  \n",
              "4                        NaN                    NaN                 0.380029  \n",
              "...                      ...                    ...                      ...  \n",
              "14571                    NaN                    NaN                 0.000000  \n",
              "14572                    NaN                    NaN                 0.000000  \n",
              "14573                    NaN                    NaN                 0.000000  \n",
              "14574                    NaN                    NaN                 0.000000  \n",
              "14575                    NaN                    NaN                 0.000000  \n",
              "\n",
              "[14576 rows x 2198 columns]"
            ],
            "text/html": [
              "\n",
              "  <div id=\"df-4715e06c-d157-4927-ba86-79727f336826\">\n",
              "    <div class=\"colab-df-container\">\n",
              "      <div>\n",
              "<style scoped>\n",
              "    .dataframe tbody tr th:only-of-type {\n",
              "        vertical-align: middle;\n",
              "    }\n",
              "\n",
              "    .dataframe tbody tr th {\n",
              "        vertical-align: top;\n",
              "    }\n",
              "\n",
              "    .dataframe thead th {\n",
              "        text-align: right;\n",
              "    }\n",
              "</style>\n",
              "<table border=\"1\" class=\"dataframe\">\n",
              "  <thead>\n",
              "    <tr style=\"text-align: right;\">\n",
              "      <th></th>\n",
              "      <th>Year_of_Release</th>\n",
              "      <th>NA_Sales</th>\n",
              "      <th>EU_Sales</th>\n",
              "      <th>JP_Sales</th>\n",
              "      <th>Critic_Score</th>\n",
              "      <th>Critic_Count</th>\n",
              "      <th>User_Score</th>\n",
              "      <th>User_Count</th>\n",
              "      <th>Global_Sales</th>\n",
              "      <th>Name_code</th>\n",
              "      <th>...</th>\n",
              "      <th>Rating_RP</th>\n",
              "      <th>Rating_T</th>\n",
              "      <th>NA_Sales_Tranformed</th>\n",
              "      <th>EU_Sales_Tranformed</th>\n",
              "      <th>JP_Sales_Tranformed</th>\n",
              "      <th>Critic_Score_Tranformed</th>\n",
              "      <th>Critic_Count_Tranformed</th>\n",
              "      <th>User_Score_Tranformed</th>\n",
              "      <th>User_Count_Tranformed</th>\n",
              "      <th>Global_Sales_Tranformed</th>\n",
              "    </tr>\n",
              "  </thead>\n",
              "  <tbody>\n",
              "    <tr>\n",
              "      <th>0</th>\n",
              "      <td>2006.0</td>\n",
              "      <td>41.36</td>\n",
              "      <td>28.96</td>\n",
              "      <td>3.77</td>\n",
              "      <td>76.0</td>\n",
              "      <td>51.0</td>\n",
              "      <td>8.0</td>\n",
              "      <td>322.0</td>\n",
              "      <td>82.53</td>\n",
              "      <td>9896.0</td>\n",
              "      <td>...</td>\n",
              "      <td>0</td>\n",
              "      <td>0</td>\n",
              "      <td>1.000000</td>\n",
              "      <td>1.000000</td>\n",
              "      <td>0.368885</td>\n",
              "      <td>0.741176</td>\n",
              "      <td>0.436364</td>\n",
              "      <td>0.824742</td>\n",
              "      <td>0.029828</td>\n",
              "      <td>1.000000</td>\n",
              "    </tr>\n",
              "    <tr>\n",
              "      <th>1</th>\n",
              "      <td>1985.0</td>\n",
              "      <td>29.08</td>\n",
              "      <td>3.58</td>\n",
              "      <td>6.81</td>\n",
              "      <td>NaN</td>\n",
              "      <td>NaN</td>\n",
              "      <td>NaN</td>\n",
              "      <td>NaN</td>\n",
              "      <td>40.24</td>\n",
              "      <td>8351.0</td>\n",
              "      <td>...</td>\n",
              "      <td>0</td>\n",
              "      <td>0</td>\n",
              "      <td>0.703095</td>\n",
              "      <td>0.123619</td>\n",
              "      <td>0.666341</td>\n",
              "      <td>NaN</td>\n",
              "      <td>NaN</td>\n",
              "      <td>NaN</td>\n",
              "      <td>NaN</td>\n",
              "      <td>0.487518</td>\n",
              "    </tr>\n",
              "    <tr>\n",
              "      <th>2</th>\n",
              "      <td>2008.0</td>\n",
              "      <td>15.68</td>\n",
              "      <td>12.76</td>\n",
              "      <td>3.79</td>\n",
              "      <td>82.0</td>\n",
              "      <td>73.0</td>\n",
              "      <td>8.3</td>\n",
              "      <td>709.0</td>\n",
              "      <td>35.52</td>\n",
              "      <td>4965.0</td>\n",
              "      <td>...</td>\n",
              "      <td>0</td>\n",
              "      <td>0</td>\n",
              "      <td>0.379110</td>\n",
              "      <td>0.440608</td>\n",
              "      <td>0.370841</td>\n",
              "      <td>0.811765</td>\n",
              "      <td>0.636364</td>\n",
              "      <td>0.855670</td>\n",
              "      <td>0.066129</td>\n",
              "      <td>0.430320</td>\n",
              "    </tr>\n",
              "    <tr>\n",
              "      <th>3</th>\n",
              "      <td>2009.0</td>\n",
              "      <td>15.61</td>\n",
              "      <td>10.93</td>\n",
              "      <td>3.28</td>\n",
              "      <td>80.0</td>\n",
              "      <td>73.0</td>\n",
              "      <td>8.0</td>\n",
              "      <td>192.0</td>\n",
              "      <td>32.77</td>\n",
              "      <td>9898.0</td>\n",
              "      <td>...</td>\n",
              "      <td>0</td>\n",
              "      <td>0</td>\n",
              "      <td>0.377418</td>\n",
              "      <td>0.377417</td>\n",
              "      <td>0.320939</td>\n",
              "      <td>0.788235</td>\n",
              "      <td>0.636364</td>\n",
              "      <td>0.824742</td>\n",
              "      <td>0.017634</td>\n",
              "      <td>0.396995</td>\n",
              "    </tr>\n",
              "    <tr>\n",
              "      <th>4</th>\n",
              "      <td>1996.0</td>\n",
              "      <td>11.27</td>\n",
              "      <td>8.89</td>\n",
              "      <td>10.22</td>\n",
              "      <td>NaN</td>\n",
              "      <td>NaN</td>\n",
              "      <td>NaN</td>\n",
              "      <td>NaN</td>\n",
              "      <td>31.37</td>\n",
              "      <td>6569.0</td>\n",
              "      <td>...</td>\n",
              "      <td>0</td>\n",
              "      <td>0</td>\n",
              "      <td>0.272485</td>\n",
              "      <td>0.306975</td>\n",
              "      <td>1.000000</td>\n",
              "      <td>NaN</td>\n",
              "      <td>NaN</td>\n",
              "      <td>NaN</td>\n",
              "      <td>NaN</td>\n",
              "      <td>0.380029</td>\n",
              "    </tr>\n",
              "    <tr>\n",
              "      <th>...</th>\n",
              "      <td>...</td>\n",
              "      <td>...</td>\n",
              "      <td>...</td>\n",
              "      <td>...</td>\n",
              "      <td>...</td>\n",
              "      <td>...</td>\n",
              "      <td>...</td>\n",
              "      <td>...</td>\n",
              "      <td>...</td>\n",
              "      <td>...</td>\n",
              "      <td>...</td>\n",
              "      <td>...</td>\n",
              "      <td>...</td>\n",
              "      <td>...</td>\n",
              "      <td>...</td>\n",
              "      <td>...</td>\n",
              "      <td>...</td>\n",
              "      <td>...</td>\n",
              "      <td>...</td>\n",
              "      <td>...</td>\n",
              "      <td>...</td>\n",
              "    </tr>\n",
              "    <tr>\n",
              "      <th>14571</th>\n",
              "      <td>2016.0</td>\n",
              "      <td>0.00</td>\n",
              "      <td>0.00</td>\n",
              "      <td>0.01</td>\n",
              "      <td>NaN</td>\n",
              "      <td>NaN</td>\n",
              "      <td>NaN</td>\n",
              "      <td>NaN</td>\n",
              "      <td>0.01</td>\n",
              "      <td>7426.0</td>\n",
              "      <td>...</td>\n",
              "      <td>0</td>\n",
              "      <td>0</td>\n",
              "      <td>0.000000</td>\n",
              "      <td>0.000000</td>\n",
              "      <td>0.000978</td>\n",
              "      <td>NaN</td>\n",
              "      <td>NaN</td>\n",
              "      <td>NaN</td>\n",
              "      <td>NaN</td>\n",
              "      <td>0.000000</td>\n",
              "    </tr>\n",
              "    <tr>\n",
              "      <th>14572</th>\n",
              "      <td>2006.0</td>\n",
              "      <td>0.00</td>\n",
              "      <td>0.01</td>\n",
              "      <td>0.00</td>\n",
              "      <td>NaN</td>\n",
              "      <td>NaN</td>\n",
              "      <td>NaN</td>\n",
              "      <td>NaN</td>\n",
              "      <td>0.01</td>\n",
              "      <td>4568.0</td>\n",
              "      <td>...</td>\n",
              "      <td>0</td>\n",
              "      <td>0</td>\n",
              "      <td>0.000000</td>\n",
              "      <td>0.000345</td>\n",
              "      <td>0.000000</td>\n",
              "      <td>NaN</td>\n",
              "      <td>NaN</td>\n",
              "      <td>NaN</td>\n",
              "      <td>NaN</td>\n",
              "      <td>0.000000</td>\n",
              "    </tr>\n",
              "    <tr>\n",
              "      <th>14573</th>\n",
              "      <td>2016.0</td>\n",
              "      <td>0.00</td>\n",
              "      <td>0.00</td>\n",
              "      <td>0.01</td>\n",
              "      <td>NaN</td>\n",
              "      <td>NaN</td>\n",
              "      <td>NaN</td>\n",
              "      <td>NaN</td>\n",
              "      <td>0.01</td>\n",
              "      <td>3443.0</td>\n",
              "      <td>...</td>\n",
              "      <td>0</td>\n",
              "      <td>0</td>\n",
              "      <td>0.000000</td>\n",
              "      <td>0.000000</td>\n",
              "      <td>0.000978</td>\n",
              "      <td>NaN</td>\n",
              "      <td>NaN</td>\n",
              "      <td>NaN</td>\n",
              "      <td>NaN</td>\n",
              "      <td>0.000000</td>\n",
              "    </tr>\n",
              "    <tr>\n",
              "      <th>14574</th>\n",
              "      <td>2003.0</td>\n",
              "      <td>0.01</td>\n",
              "      <td>0.00</td>\n",
              "      <td>0.00</td>\n",
              "      <td>NaN</td>\n",
              "      <td>NaN</td>\n",
              "      <td>NaN</td>\n",
              "      <td>NaN</td>\n",
              "      <td>0.01</td>\n",
              "      <td>8026.0</td>\n",
              "      <td>...</td>\n",
              "      <td>0</td>\n",
              "      <td>0</td>\n",
              "      <td>0.000242</td>\n",
              "      <td>0.000000</td>\n",
              "      <td>0.000000</td>\n",
              "      <td>NaN</td>\n",
              "      <td>NaN</td>\n",
              "      <td>NaN</td>\n",
              "      <td>NaN</td>\n",
              "      <td>0.000000</td>\n",
              "    </tr>\n",
              "    <tr>\n",
              "      <th>14575</th>\n",
              "      <td>2016.0</td>\n",
              "      <td>0.00</td>\n",
              "      <td>0.00</td>\n",
              "      <td>0.01</td>\n",
              "      <td>NaN</td>\n",
              "      <td>NaN</td>\n",
              "      <td>NaN</td>\n",
              "      <td>NaN</td>\n",
              "      <td>0.01</td>\n",
              "      <td>9933.0</td>\n",
              "      <td>...</td>\n",
              "      <td>0</td>\n",
              "      <td>0</td>\n",
              "      <td>0.000000</td>\n",
              "      <td>0.000000</td>\n",
              "      <td>0.000978</td>\n",
              "      <td>NaN</td>\n",
              "      <td>NaN</td>\n",
              "      <td>NaN</td>\n",
              "      <td>NaN</td>\n",
              "      <td>0.000000</td>\n",
              "    </tr>\n",
              "  </tbody>\n",
              "</table>\n",
              "<p>14576 rows × 2198 columns</p>\n",
              "</div>\n",
              "      <button class=\"colab-df-convert\" onclick=\"convertToInteractive('df-4715e06c-d157-4927-ba86-79727f336826')\"\n",
              "              title=\"Convert this dataframe to an interactive table.\"\n",
              "              style=\"display:none;\">\n",
              "        \n",
              "  <svg xmlns=\"http://www.w3.org/2000/svg\" height=\"24px\"viewBox=\"0 0 24 24\"\n",
              "       width=\"24px\">\n",
              "    <path d=\"M0 0h24v24H0V0z\" fill=\"none\"/>\n",
              "    <path d=\"M18.56 5.44l.94 2.06.94-2.06 2.06-.94-2.06-.94-.94-2.06-.94 2.06-2.06.94zm-11 1L8.5 8.5l.94-2.06 2.06-.94-2.06-.94L8.5 2.5l-.94 2.06-2.06.94zm10 10l.94 2.06.94-2.06 2.06-.94-2.06-.94-.94-2.06-.94 2.06-2.06.94z\"/><path d=\"M17.41 7.96l-1.37-1.37c-.4-.4-.92-.59-1.43-.59-.52 0-1.04.2-1.43.59L10.3 9.45l-7.72 7.72c-.78.78-.78 2.05 0 2.83L4 21.41c.39.39.9.59 1.41.59.51 0 1.02-.2 1.41-.59l7.78-7.78 2.81-2.81c.8-.78.8-2.07 0-2.86zM5.41 20L4 18.59l7.72-7.72 1.47 1.35L5.41 20z\"/>\n",
              "  </svg>\n",
              "      </button>\n",
              "      \n",
              "  <style>\n",
              "    .colab-df-container {\n",
              "      display:flex;\n",
              "      flex-wrap:wrap;\n",
              "      gap: 12px;\n",
              "    }\n",
              "\n",
              "    .colab-df-convert {\n",
              "      background-color: #E8F0FE;\n",
              "      border: none;\n",
              "      border-radius: 50%;\n",
              "      cursor: pointer;\n",
              "      display: none;\n",
              "      fill: #1967D2;\n",
              "      height: 32px;\n",
              "      padding: 0 0 0 0;\n",
              "      width: 32px;\n",
              "    }\n",
              "\n",
              "    .colab-df-convert:hover {\n",
              "      background-color: #E2EBFA;\n",
              "      box-shadow: 0px 1px 2px rgba(60, 64, 67, 0.3), 0px 1px 3px 1px rgba(60, 64, 67, 0.15);\n",
              "      fill: #174EA6;\n",
              "    }\n",
              "\n",
              "    [theme=dark] .colab-df-convert {\n",
              "      background-color: #3B4455;\n",
              "      fill: #D2E3FC;\n",
              "    }\n",
              "\n",
              "    [theme=dark] .colab-df-convert:hover {\n",
              "      background-color: #434B5C;\n",
              "      box-shadow: 0px 1px 3px 1px rgba(0, 0, 0, 0.15);\n",
              "      filter: drop-shadow(0px 1px 2px rgba(0, 0, 0, 0.3));\n",
              "      fill: #FFFFFF;\n",
              "    }\n",
              "  </style>\n",
              "\n",
              "      <script>\n",
              "        const buttonEl =\n",
              "          document.querySelector('#df-4715e06c-d157-4927-ba86-79727f336826 button.colab-df-convert');\n",
              "        buttonEl.style.display =\n",
              "          google.colab.kernel.accessAllowed ? 'block' : 'none';\n",
              "\n",
              "        async function convertToInteractive(key) {\n",
              "          const element = document.querySelector('#df-4715e06c-d157-4927-ba86-79727f336826');\n",
              "          const dataTable =\n",
              "            await google.colab.kernel.invokeFunction('convertToInteractive',\n",
              "                                                     [key], {});\n",
              "          if (!dataTable) return;\n",
              "\n",
              "          const docLinkHtml = 'Like what you see? Visit the ' +\n",
              "            '<a target=\"_blank\" href=https://colab.research.google.com/notebooks/data_table.ipynb>data table notebook</a>'\n",
              "            + ' to learn more about interactive tables.';\n",
              "          element.innerHTML = '';\n",
              "          dataTable['output_type'] = 'display_data';\n",
              "          await google.colab.output.renderOutput(dataTable, element);\n",
              "          const docLink = document.createElement('div');\n",
              "          docLink.innerHTML = docLinkHtml;\n",
              "          element.appendChild(docLink);\n",
              "        }\n",
              "      </script>\n",
              "    </div>\n",
              "  </div>\n",
              "  "
            ]
          },
          "metadata": {},
          "execution_count": 255
        }
      ]
    },
    {
      "cell_type": "code",
      "source": [
        "y"
      ],
      "metadata": {
        "colab": {
          "base_uri": "https://localhost:8080/"
        },
        "id": "RlLIJhOAE5em",
        "outputId": "f792d414-7643-4199-9986-56613c44087c"
      },
      "execution_count": null,
      "outputs": [
        {
          "output_type": "execute_result",
          "data": {
            "text/plain": [
              "0        1.000000\n",
              "1        0.487518\n",
              "2        0.430320\n",
              "3        0.396995\n",
              "4        0.380029\n",
              "           ...   \n",
              "14571    0.000000\n",
              "14572    0.000000\n",
              "14573    0.000000\n",
              "14574    0.000000\n",
              "14575    0.000000\n",
              "Name: World Sales, Length: 14576, dtype: float64"
            ]
          },
          "metadata": {},
          "execution_count": 256
        }
      ]
    },
    {
      "cell_type": "code",
      "metadata": {
        "id": "4Cao21O30FF1"
      },
      "source": [
        "import statsmodels.api as sm\n",
        "def forward_selection(data, target, significance_level=0.01):\n",
        "    initial_features = data.columns.tolist()\n",
        "    best_features = []\n",
        "    while (len(initial_features)>0):\n",
        "        remaining_features = list(set(initial_features)-set(best_features))\n",
        "        new_pval = pd.Series(index=remaining_features)\n",
        "        for new_column in remaining_features:\n",
        "            model = sm.OLS(target, sm.add_constant(data[best_features+[new_column]])).fit()\n",
        "            new_pval[new_column] = model.pvalues[new_column]\n",
        "        min_p_value = new_pval.min()\n",
        "        if(min_p_value<significance_level):\n",
        "            best_features.append(new_pval.idxmin())\n",
        "        else:\n",
        "            break\n",
        "    return best_features"
      ],
      "execution_count": null,
      "outputs": []
    },
    {
      "cell_type": "markdown",
      "source": [
        "\n",
        "\n",
        "---\n",
        "\n"
      ],
      "metadata": {
        "id": "TnXzbw_SQnTj"
      }
    },
    {
      "cell_type": "code",
      "source": [
        " from sklearn.ensemble import RandomForestRegressor\n",
        " from sklearn.model_selection import train_test_split\n",
        " from sklearn import metrics\n",
        " import pandas as pd\n",
        " import numpy as np\n",
        " from matplotlib import pyplot as plt\n",
        " import seaborn as sns\n",
        " sns.set_style('whitegrid')"
      ],
      "metadata": {
        "id": "PbyI0jMXGfqy"
      },
      "execution_count": null,
      "outputs": []
    },
    {
      "cell_type": "code",
      "source": [
        "#Reemplazamos los valores Nan para el modelo\n",
        "df[df==np.inf]=np.nan\n",
        "df.fillna(df.mean(0), inplace=True)"
      ],
      "metadata": {
        "id": "AIB_IPK4Jky7"
      },
      "execution_count": null,
      "outputs": []
    },
    {
      "cell_type": "code",
      "source": [
        "# definimos matriz de diseño X y vector respuesta y\n",
        "X = df\n",
        "y = abs(pd.Series(df['World Sales'])-1)\n",
        "# Separamos en entrenamiento/test en razon 80/20 %\n",
        "X_train, X_test, y_train, y_test = train_test_split(X,y,test_size=0.2, random_state=1)\n",
        "# Creamos un modelo Random Forest con parametros por defect\n",
        "modelo = RandomForestRegressor(random_state=1)\n",
        "modelo.fit(X_train, y_train)\n",
        "# Obtenemos las predicciones del modelo con X_test\n",
        "preds = modelo.predict(X_test) "
      ],
      "metadata": {
        "id": "dWhIMamm2_GC"
      },
      "execution_count": null,
      "outputs": []
    },
    {
      "cell_type": "code",
      "source": [
        "from sklearn import metrics\n",
        "\n",
        "print('Mean Absolute Error:', metrics.mean_absolute_error(y_test, preds))\n",
        "print('Mean Squared Error:', metrics.mean_squared_error(y_test, preds))\n",
        "print('Root Mean Squared Error:', np.sqrt(metrics.mean_squared_error(y_test, preds)))"
      ],
      "metadata": {
        "id": "ImRI_pJFQiCO",
        "colab": {
          "base_uri": "https://localhost:8080/"
        },
        "outputId": "d776a090-f1b9-4825-8d72-a074eb2b81bc"
      },
      "execution_count": null,
      "outputs": [
        {
          "output_type": "stream",
          "name": "stdout",
          "text": [
            "Mean Absolute Error: 3.9310834237575594e-05\n",
            "Mean Squared Error: 6.13877462940805e-07\n",
            "Root Mean Squared Error: 0.0007835033266941532\n"
          ]
        }
      ]
    },
    {
      "cell_type": "markdown",
      "source": [
        "Vemos que tenemos bajos numeros de error ya sea en absoluto o en cuadratico, esto habla de que el modelo de prediccion tiene una buena proyeccion para el proyecto"
      ],
      "metadata": {
        "id": "JkCpd6t1222G"
      }
    },
    {
      "cell_type": "code",
      "source": [
        "from sklearn.metrics import r2_score\n",
        "r2 = r2_score(y_test,preds)\n",
        "print(r2)"
      ],
      "metadata": {
        "colab": {
          "base_uri": "https://localhost:8080/"
        },
        "id": "9kjWqi0Wz5ro",
        "outputId": "bc5724c8-1a63-4eca-8fc4-6aaaf603e315"
      },
      "execution_count": null,
      "outputs": [
        {
          "output_type": "stream",
          "name": "stdout",
          "text": [
            "0.9984016712352493\n"
          ]
        }
      ]
    },
    {
      "cell_type": "markdown",
      "source": [
        "Vemos que tenemos un buen r2_Score muy cercano al 1.0, esto reafirma nuestras conclusiones del punto anterior"
      ],
      "metadata": {
        "id": "p3Vz_8np1Xiz"
      }
    }
  ]
}